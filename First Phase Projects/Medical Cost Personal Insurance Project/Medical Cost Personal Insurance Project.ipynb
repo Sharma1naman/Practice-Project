{
 "cells": [
  {
   "cell_type": "markdown",
   "id": "ae9cf09b",
   "metadata": {},
   "source": [
    "# Import Necessary Libraries"
   ]
  },
  {
   "cell_type": "code",
   "execution_count": 1,
   "id": "13273e18",
   "metadata": {},
   "outputs": [],
   "source": [
    "import pandas as pd\n",
    "import numpy as np\n",
    "import seaborn as sns\n",
    "import matplotlib.pyplot as plt\n",
    "import warnings\n",
    "warnings.filterwarnings('ignore')"
   ]
  },
  {
   "cell_type": "markdown",
   "id": "43100e05",
   "metadata": {},
   "source": [
    "# Importing Dataset"
   ]
  },
  {
   "cell_type": "code",
   "execution_count": 2,
   "id": "75997f7b",
   "metadata": {},
   "outputs": [],
   "source": [
    "data = pd.read_csv('medical_cost_insurance.csv')"
   ]
  },
  {
   "cell_type": "code",
   "execution_count": 3,
   "id": "f72d49fb",
   "metadata": {},
   "outputs": [
    {
     "data": {
      "text/html": [
       "<div>\n",
       "<style scoped>\n",
       "    .dataframe tbody tr th:only-of-type {\n",
       "        vertical-align: middle;\n",
       "    }\n",
       "\n",
       "    .dataframe tbody tr th {\n",
       "        vertical-align: top;\n",
       "    }\n",
       "\n",
       "    .dataframe thead th {\n",
       "        text-align: right;\n",
       "    }\n",
       "</style>\n",
       "<table border=\"1\" class=\"dataframe\">\n",
       "  <thead>\n",
       "    <tr style=\"text-align: right;\">\n",
       "      <th></th>\n",
       "      <th>age</th>\n",
       "      <th>sex</th>\n",
       "      <th>bmi</th>\n",
       "      <th>children</th>\n",
       "      <th>smoker</th>\n",
       "      <th>region</th>\n",
       "      <th>charges</th>\n",
       "    </tr>\n",
       "  </thead>\n",
       "  <tbody>\n",
       "    <tr>\n",
       "      <th>0</th>\n",
       "      <td>19</td>\n",
       "      <td>female</td>\n",
       "      <td>27.900</td>\n",
       "      <td>0</td>\n",
       "      <td>yes</td>\n",
       "      <td>southwest</td>\n",
       "      <td>16884.92400</td>\n",
       "    </tr>\n",
       "    <tr>\n",
       "      <th>1</th>\n",
       "      <td>18</td>\n",
       "      <td>male</td>\n",
       "      <td>33.770</td>\n",
       "      <td>1</td>\n",
       "      <td>no</td>\n",
       "      <td>southeast</td>\n",
       "      <td>1725.55230</td>\n",
       "    </tr>\n",
       "    <tr>\n",
       "      <th>2</th>\n",
       "      <td>28</td>\n",
       "      <td>male</td>\n",
       "      <td>33.000</td>\n",
       "      <td>3</td>\n",
       "      <td>no</td>\n",
       "      <td>southeast</td>\n",
       "      <td>4449.46200</td>\n",
       "    </tr>\n",
       "    <tr>\n",
       "      <th>3</th>\n",
       "      <td>33</td>\n",
       "      <td>male</td>\n",
       "      <td>22.705</td>\n",
       "      <td>0</td>\n",
       "      <td>no</td>\n",
       "      <td>northwest</td>\n",
       "      <td>21984.47061</td>\n",
       "    </tr>\n",
       "    <tr>\n",
       "      <th>4</th>\n",
       "      <td>32</td>\n",
       "      <td>male</td>\n",
       "      <td>28.880</td>\n",
       "      <td>0</td>\n",
       "      <td>no</td>\n",
       "      <td>northwest</td>\n",
       "      <td>3866.85520</td>\n",
       "    </tr>\n",
       "    <tr>\n",
       "      <th>...</th>\n",
       "      <td>...</td>\n",
       "      <td>...</td>\n",
       "      <td>...</td>\n",
       "      <td>...</td>\n",
       "      <td>...</td>\n",
       "      <td>...</td>\n",
       "      <td>...</td>\n",
       "    </tr>\n",
       "    <tr>\n",
       "      <th>1333</th>\n",
       "      <td>50</td>\n",
       "      <td>male</td>\n",
       "      <td>30.970</td>\n",
       "      <td>3</td>\n",
       "      <td>no</td>\n",
       "      <td>northwest</td>\n",
       "      <td>10600.54830</td>\n",
       "    </tr>\n",
       "    <tr>\n",
       "      <th>1334</th>\n",
       "      <td>18</td>\n",
       "      <td>female</td>\n",
       "      <td>31.920</td>\n",
       "      <td>0</td>\n",
       "      <td>no</td>\n",
       "      <td>northeast</td>\n",
       "      <td>2205.98080</td>\n",
       "    </tr>\n",
       "    <tr>\n",
       "      <th>1335</th>\n",
       "      <td>18</td>\n",
       "      <td>female</td>\n",
       "      <td>36.850</td>\n",
       "      <td>0</td>\n",
       "      <td>no</td>\n",
       "      <td>southeast</td>\n",
       "      <td>1629.83350</td>\n",
       "    </tr>\n",
       "    <tr>\n",
       "      <th>1336</th>\n",
       "      <td>21</td>\n",
       "      <td>female</td>\n",
       "      <td>25.800</td>\n",
       "      <td>0</td>\n",
       "      <td>no</td>\n",
       "      <td>southwest</td>\n",
       "      <td>2007.94500</td>\n",
       "    </tr>\n",
       "    <tr>\n",
       "      <th>1337</th>\n",
       "      <td>61</td>\n",
       "      <td>female</td>\n",
       "      <td>29.070</td>\n",
       "      <td>0</td>\n",
       "      <td>yes</td>\n",
       "      <td>northwest</td>\n",
       "      <td>29141.36030</td>\n",
       "    </tr>\n",
       "  </tbody>\n",
       "</table>\n",
       "<p>1338 rows × 7 columns</p>\n",
       "</div>"
      ],
      "text/plain": [
       "      age     sex     bmi  children smoker     region      charges\n",
       "0      19  female  27.900         0    yes  southwest  16884.92400\n",
       "1      18    male  33.770         1     no  southeast   1725.55230\n",
       "2      28    male  33.000         3     no  southeast   4449.46200\n",
       "3      33    male  22.705         0     no  northwest  21984.47061\n",
       "4      32    male  28.880         0     no  northwest   3866.85520\n",
       "...   ...     ...     ...       ...    ...        ...          ...\n",
       "1333   50    male  30.970         3     no  northwest  10600.54830\n",
       "1334   18  female  31.920         0     no  northeast   2205.98080\n",
       "1335   18  female  36.850         0     no  southeast   1629.83350\n",
       "1336   21  female  25.800         0     no  southwest   2007.94500\n",
       "1337   61  female  29.070         0    yes  northwest  29141.36030\n",
       "\n",
       "[1338 rows x 7 columns]"
      ]
     },
     "execution_count": 3,
     "metadata": {},
     "output_type": "execute_result"
    }
   ],
   "source": [
    "data"
   ]
  },
  {
   "cell_type": "code",
   "execution_count": 4,
   "id": "1d74cb08",
   "metadata": {},
   "outputs": [
    {
     "data": {
      "text/html": [
       "<div>\n",
       "<style scoped>\n",
       "    .dataframe tbody tr th:only-of-type {\n",
       "        vertical-align: middle;\n",
       "    }\n",
       "\n",
       "    .dataframe tbody tr th {\n",
       "        vertical-align: top;\n",
       "    }\n",
       "\n",
       "    .dataframe thead th {\n",
       "        text-align: right;\n",
       "    }\n",
       "</style>\n",
       "<table border=\"1\" class=\"dataframe\">\n",
       "  <thead>\n",
       "    <tr style=\"text-align: right;\">\n",
       "      <th></th>\n",
       "      <th>age</th>\n",
       "      <th>sex</th>\n",
       "      <th>bmi</th>\n",
       "      <th>children</th>\n",
       "      <th>smoker</th>\n",
       "      <th>region</th>\n",
       "      <th>charges</th>\n",
       "    </tr>\n",
       "  </thead>\n",
       "  <tbody>\n",
       "    <tr>\n",
       "      <th>0</th>\n",
       "      <td>19</td>\n",
       "      <td>female</td>\n",
       "      <td>27.900</td>\n",
       "      <td>0</td>\n",
       "      <td>yes</td>\n",
       "      <td>southwest</td>\n",
       "      <td>16884.92400</td>\n",
       "    </tr>\n",
       "    <tr>\n",
       "      <th>1</th>\n",
       "      <td>18</td>\n",
       "      <td>male</td>\n",
       "      <td>33.770</td>\n",
       "      <td>1</td>\n",
       "      <td>no</td>\n",
       "      <td>southeast</td>\n",
       "      <td>1725.55230</td>\n",
       "    </tr>\n",
       "    <tr>\n",
       "      <th>2</th>\n",
       "      <td>28</td>\n",
       "      <td>male</td>\n",
       "      <td>33.000</td>\n",
       "      <td>3</td>\n",
       "      <td>no</td>\n",
       "      <td>southeast</td>\n",
       "      <td>4449.46200</td>\n",
       "    </tr>\n",
       "    <tr>\n",
       "      <th>3</th>\n",
       "      <td>33</td>\n",
       "      <td>male</td>\n",
       "      <td>22.705</td>\n",
       "      <td>0</td>\n",
       "      <td>no</td>\n",
       "      <td>northwest</td>\n",
       "      <td>21984.47061</td>\n",
       "    </tr>\n",
       "    <tr>\n",
       "      <th>4</th>\n",
       "      <td>32</td>\n",
       "      <td>male</td>\n",
       "      <td>28.880</td>\n",
       "      <td>0</td>\n",
       "      <td>no</td>\n",
       "      <td>northwest</td>\n",
       "      <td>3866.85520</td>\n",
       "    </tr>\n",
       "    <tr>\n",
       "      <th>5</th>\n",
       "      <td>31</td>\n",
       "      <td>female</td>\n",
       "      <td>25.740</td>\n",
       "      <td>0</td>\n",
       "      <td>no</td>\n",
       "      <td>southeast</td>\n",
       "      <td>3756.62160</td>\n",
       "    </tr>\n",
       "    <tr>\n",
       "      <th>6</th>\n",
       "      <td>46</td>\n",
       "      <td>female</td>\n",
       "      <td>33.440</td>\n",
       "      <td>1</td>\n",
       "      <td>no</td>\n",
       "      <td>southeast</td>\n",
       "      <td>8240.58960</td>\n",
       "    </tr>\n",
       "    <tr>\n",
       "      <th>7</th>\n",
       "      <td>37</td>\n",
       "      <td>female</td>\n",
       "      <td>27.740</td>\n",
       "      <td>3</td>\n",
       "      <td>no</td>\n",
       "      <td>northwest</td>\n",
       "      <td>7281.50560</td>\n",
       "    </tr>\n",
       "    <tr>\n",
       "      <th>8</th>\n",
       "      <td>37</td>\n",
       "      <td>male</td>\n",
       "      <td>29.830</td>\n",
       "      <td>2</td>\n",
       "      <td>no</td>\n",
       "      <td>northeast</td>\n",
       "      <td>6406.41070</td>\n",
       "    </tr>\n",
       "    <tr>\n",
       "      <th>9</th>\n",
       "      <td>60</td>\n",
       "      <td>female</td>\n",
       "      <td>25.840</td>\n",
       "      <td>0</td>\n",
       "      <td>no</td>\n",
       "      <td>northwest</td>\n",
       "      <td>28923.13692</td>\n",
       "    </tr>\n",
       "  </tbody>\n",
       "</table>\n",
       "</div>"
      ],
      "text/plain": [
       "   age     sex     bmi  children smoker     region      charges\n",
       "0   19  female  27.900         0    yes  southwest  16884.92400\n",
       "1   18    male  33.770         1     no  southeast   1725.55230\n",
       "2   28    male  33.000         3     no  southeast   4449.46200\n",
       "3   33    male  22.705         0     no  northwest  21984.47061\n",
       "4   32    male  28.880         0     no  northwest   3866.85520\n",
       "5   31  female  25.740         0     no  southeast   3756.62160\n",
       "6   46  female  33.440         1     no  southeast   8240.58960\n",
       "7   37  female  27.740         3     no  northwest   7281.50560\n",
       "8   37    male  29.830         2     no  northeast   6406.41070\n",
       "9   60  female  25.840         0     no  northwest  28923.13692"
      ]
     },
     "execution_count": 4,
     "metadata": {},
     "output_type": "execute_result"
    }
   ],
   "source": [
    "data.head(10)"
   ]
  },
  {
   "cell_type": "code",
   "execution_count": 5,
   "id": "1074ab2d",
   "metadata": {},
   "outputs": [
    {
     "data": {
      "text/html": [
       "<div>\n",
       "<style scoped>\n",
       "    .dataframe tbody tr th:only-of-type {\n",
       "        vertical-align: middle;\n",
       "    }\n",
       "\n",
       "    .dataframe tbody tr th {\n",
       "        vertical-align: top;\n",
       "    }\n",
       "\n",
       "    .dataframe thead th {\n",
       "        text-align: right;\n",
       "    }\n",
       "</style>\n",
       "<table border=\"1\" class=\"dataframe\">\n",
       "  <thead>\n",
       "    <tr style=\"text-align: right;\">\n",
       "      <th></th>\n",
       "      <th>age</th>\n",
       "      <th>sex</th>\n",
       "      <th>bmi</th>\n",
       "      <th>children</th>\n",
       "      <th>smoker</th>\n",
       "      <th>region</th>\n",
       "      <th>charges</th>\n",
       "    </tr>\n",
       "  </thead>\n",
       "  <tbody>\n",
       "    <tr>\n",
       "      <th>1328</th>\n",
       "      <td>23</td>\n",
       "      <td>female</td>\n",
       "      <td>24.225</td>\n",
       "      <td>2</td>\n",
       "      <td>no</td>\n",
       "      <td>northeast</td>\n",
       "      <td>22395.74424</td>\n",
       "    </tr>\n",
       "    <tr>\n",
       "      <th>1329</th>\n",
       "      <td>52</td>\n",
       "      <td>male</td>\n",
       "      <td>38.600</td>\n",
       "      <td>2</td>\n",
       "      <td>no</td>\n",
       "      <td>southwest</td>\n",
       "      <td>10325.20600</td>\n",
       "    </tr>\n",
       "    <tr>\n",
       "      <th>1330</th>\n",
       "      <td>57</td>\n",
       "      <td>female</td>\n",
       "      <td>25.740</td>\n",
       "      <td>2</td>\n",
       "      <td>no</td>\n",
       "      <td>southeast</td>\n",
       "      <td>12629.16560</td>\n",
       "    </tr>\n",
       "    <tr>\n",
       "      <th>1331</th>\n",
       "      <td>23</td>\n",
       "      <td>female</td>\n",
       "      <td>33.400</td>\n",
       "      <td>0</td>\n",
       "      <td>no</td>\n",
       "      <td>southwest</td>\n",
       "      <td>10795.93733</td>\n",
       "    </tr>\n",
       "    <tr>\n",
       "      <th>1332</th>\n",
       "      <td>52</td>\n",
       "      <td>female</td>\n",
       "      <td>44.700</td>\n",
       "      <td>3</td>\n",
       "      <td>no</td>\n",
       "      <td>southwest</td>\n",
       "      <td>11411.68500</td>\n",
       "    </tr>\n",
       "    <tr>\n",
       "      <th>1333</th>\n",
       "      <td>50</td>\n",
       "      <td>male</td>\n",
       "      <td>30.970</td>\n",
       "      <td>3</td>\n",
       "      <td>no</td>\n",
       "      <td>northwest</td>\n",
       "      <td>10600.54830</td>\n",
       "    </tr>\n",
       "    <tr>\n",
       "      <th>1334</th>\n",
       "      <td>18</td>\n",
       "      <td>female</td>\n",
       "      <td>31.920</td>\n",
       "      <td>0</td>\n",
       "      <td>no</td>\n",
       "      <td>northeast</td>\n",
       "      <td>2205.98080</td>\n",
       "    </tr>\n",
       "    <tr>\n",
       "      <th>1335</th>\n",
       "      <td>18</td>\n",
       "      <td>female</td>\n",
       "      <td>36.850</td>\n",
       "      <td>0</td>\n",
       "      <td>no</td>\n",
       "      <td>southeast</td>\n",
       "      <td>1629.83350</td>\n",
       "    </tr>\n",
       "    <tr>\n",
       "      <th>1336</th>\n",
       "      <td>21</td>\n",
       "      <td>female</td>\n",
       "      <td>25.800</td>\n",
       "      <td>0</td>\n",
       "      <td>no</td>\n",
       "      <td>southwest</td>\n",
       "      <td>2007.94500</td>\n",
       "    </tr>\n",
       "    <tr>\n",
       "      <th>1337</th>\n",
       "      <td>61</td>\n",
       "      <td>female</td>\n",
       "      <td>29.070</td>\n",
       "      <td>0</td>\n",
       "      <td>yes</td>\n",
       "      <td>northwest</td>\n",
       "      <td>29141.36030</td>\n",
       "    </tr>\n",
       "  </tbody>\n",
       "</table>\n",
       "</div>"
      ],
      "text/plain": [
       "      age     sex     bmi  children smoker     region      charges\n",
       "1328   23  female  24.225         2     no  northeast  22395.74424\n",
       "1329   52    male  38.600         2     no  southwest  10325.20600\n",
       "1330   57  female  25.740         2     no  southeast  12629.16560\n",
       "1331   23  female  33.400         0     no  southwest  10795.93733\n",
       "1332   52  female  44.700         3     no  southwest  11411.68500\n",
       "1333   50    male  30.970         3     no  northwest  10600.54830\n",
       "1334   18  female  31.920         0     no  northeast   2205.98080\n",
       "1335   18  female  36.850         0     no  southeast   1629.83350\n",
       "1336   21  female  25.800         0     no  southwest   2007.94500\n",
       "1337   61  female  29.070         0    yes  northwest  29141.36030"
      ]
     },
     "execution_count": 5,
     "metadata": {},
     "output_type": "execute_result"
    }
   ],
   "source": [
    "data.tail(10)"
   ]
  },
  {
   "cell_type": "markdown",
   "id": "d9b7d6a0",
   "metadata": {},
   "source": [
    "# Exploratory Data Analysis(EDA)"
   ]
  },
  {
   "cell_type": "code",
   "execution_count": 6,
   "id": "e63f0498",
   "metadata": {},
   "outputs": [
    {
     "data": {
      "text/plain": [
       "(1338, 7)"
      ]
     },
     "execution_count": 6,
     "metadata": {},
     "output_type": "execute_result"
    }
   ],
   "source": [
    "#checking the dimension of data\n",
    "data.shape"
   ]
  },
  {
   "cell_type": "code",
   "execution_count": 7,
   "id": "11fbe047",
   "metadata": {},
   "outputs": [
    {
     "data": {
      "text/plain": [
       "Index(['age', 'sex', 'bmi', 'children', 'smoker', 'region', 'charges'], dtype='object')"
      ]
     },
     "execution_count": 7,
     "metadata": {},
     "output_type": "execute_result"
    }
   ],
   "source": [
    "data.columns"
   ]
  },
  {
   "cell_type": "code",
   "execution_count": 8,
   "id": "59a29d11",
   "metadata": {},
   "outputs": [
    {
     "data": {
      "text/plain": [
       "['age', 'sex', 'bmi', 'children', 'smoker', 'region', 'charges']"
      ]
     },
     "execution_count": 8,
     "metadata": {},
     "output_type": "execute_result"
    }
   ],
   "source": [
    "#checking the columns of dataset\n",
    "data.columns.tolist()"
   ]
  },
  {
   "cell_type": "code",
   "execution_count": 9,
   "id": "4bbdec6e",
   "metadata": {},
   "outputs": [
    {
     "data": {
      "text/plain": [
       "age           int64\n",
       "sex          object\n",
       "bmi         float64\n",
       "children      int64\n",
       "smoker       object\n",
       "region       object\n",
       "charges     float64\n",
       "dtype: object"
      ]
     },
     "execution_count": 9,
     "metadata": {},
     "output_type": "execute_result"
    }
   ],
   "source": [
    "#checking the types of columns\n",
    "data.dtypes"
   ]
  },
  {
   "cell_type": "code",
   "execution_count": 10,
   "id": "cc827210",
   "metadata": {},
   "outputs": [
    {
     "name": "stdout",
     "output_type": "stream",
     "text": [
      "<class 'pandas.core.frame.DataFrame'>\n",
      "RangeIndex: 1338 entries, 0 to 1337\n",
      "Data columns (total 7 columns):\n",
      " #   Column    Non-Null Count  Dtype  \n",
      "---  ------    --------------  -----  \n",
      " 0   age       1338 non-null   int64  \n",
      " 1   sex       1338 non-null   object \n",
      " 2   bmi       1338 non-null   float64\n",
      " 3   children  1338 non-null   int64  \n",
      " 4   smoker    1338 non-null   object \n",
      " 5   region    1338 non-null   object \n",
      " 6   charges   1338 non-null   float64\n",
      "dtypes: float64(2), int64(2), object(3)\n",
      "memory usage: 73.3+ KB\n"
     ]
    }
   ],
   "source": [
    "data.info()"
   ]
  },
  {
   "cell_type": "code",
   "execution_count": 11,
   "id": "ace5d795",
   "metadata": {},
   "outputs": [
    {
     "data": {
      "text/plain": [
       "0"
      ]
     },
     "execution_count": 11,
     "metadata": {},
     "output_type": "execute_result"
    }
   ],
   "source": [
    "data.isnull().sum().sum()"
   ]
  },
  {
   "cell_type": "code",
   "execution_count": 12,
   "id": "eaaa93c4",
   "metadata": {},
   "outputs": [
    {
     "data": {
      "text/plain": [
       "age         0\n",
       "sex         0\n",
       "bmi         0\n",
       "children    0\n",
       "smoker      0\n",
       "region      0\n",
       "charges     0\n",
       "dtype: int64"
      ]
     },
     "execution_count": 12,
     "metadata": {},
     "output_type": "execute_result"
    }
   ],
   "source": [
    "data.isnull().sum()"
   ]
  },
  {
   "cell_type": "code",
   "execution_count": 13,
   "id": "afd77c6c",
   "metadata": {},
   "outputs": [
    {
     "data": {
      "text/plain": [
       "<AxesSubplot:>"
      ]
     },
     "execution_count": 13,
     "metadata": {},
     "output_type": "execute_result"
    },
    {
     "data": {
      "image/png": "[encoded data removed]",
      "text/plain": [
       "<Figure size 432x288 with 2 Axes>"
      ]
     },
     "metadata": {
      "needs_background": "light"
     },
     "output_type": "display_data"
    }
   ],
   "source": [
    "#lets visualize it using heatmap\n",
    "sns.heatmap(data.isnull())"
   ]
  },
  {
   "cell_type": "code",
   "execution_count": 14,
   "id": "32bbc365",
   "metadata": {},
   "outputs": [
    {
     "name": "stdout",
     "output_type": "stream",
     "text": [
      "18    69\n",
      "19    68\n",
      "20    29\n",
      "51    29\n",
      "45    29\n",
      "46    29\n",
      "47    29\n",
      "48    29\n",
      "50    29\n",
      "52    29\n",
      "28    28\n",
      "54    28\n",
      "21    28\n",
      "27    28\n",
      "26    28\n",
      "49    28\n",
      "25    28\n",
      "24    28\n",
      "23    28\n",
      "22    28\n",
      "53    28\n",
      "42    27\n",
      "44    27\n",
      "43    27\n",
      "41    27\n",
      "40    27\n",
      "31    27\n",
      "30    27\n",
      "29    27\n",
      "56    26\n",
      "34    26\n",
      "33    26\n",
      "32    26\n",
      "57    26\n",
      "55    26\n",
      "35    25\n",
      "59    25\n",
      "58    25\n",
      "36    25\n",
      "39    25\n",
      "38    25\n",
      "37    25\n",
      "60    23\n",
      "61    23\n",
      "62    23\n",
      "63    23\n",
      "64    22\n",
      "Name: age, dtype: int64\n",
      "\n",
      "\n",
      "male      676\n",
      "female    662\n",
      "Name: sex, dtype: int64\n",
      "\n",
      "\n",
      "32.300    13\n",
      "28.310     9\n",
      "30.800     8\n",
      "34.100     8\n",
      "28.880     8\n",
      "          ..\n",
      "44.745     1\n",
      "26.070     1\n",
      "27.300     1\n",
      "37.715     1\n",
      "29.200     1\n",
      "Name: bmi, Length: 548, dtype: int64\n",
      "\n",
      "\n",
      "0    574\n",
      "1    324\n",
      "2    240\n",
      "3    157\n",
      "4     25\n",
      "5     18\n",
      "Name: children, dtype: int64\n",
      "\n",
      "\n",
      "no     1064\n",
      "yes     274\n",
      "Name: smoker, dtype: int64\n",
      "\n",
      "\n",
      "southeast    364\n",
      "southwest    325\n",
      "northwest    325\n",
      "northeast    324\n",
      "Name: region, dtype: int64\n",
      "\n",
      "\n",
      "1639.56310     2\n",
      "11987.16820    1\n",
      "7624.63000     1\n",
      "12523.60480    1\n",
      "10355.64100    1\n",
      "              ..\n",
      "62592.87309    1\n",
      "18903.49141    1\n",
      "8538.28845     1\n",
      "11165.41765    1\n",
      "60021.39897    1\n",
      "Name: charges, Length: 1337, dtype: int64\n",
      "\n",
      "\n"
     ]
    }
   ],
   "source": [
    "#checking the value counts of each column\n",
    "for i in data.columns:\n",
    "    print(data[i].value_counts())\n",
    "    print(\"\\n\")"
   ]
  },
  {
   "cell_type": "code",
   "execution_count": 15,
   "id": "9258c919",
   "metadata": {},
   "outputs": [
    {
     "data": {
      "text/plain": [
       "1338"
      ]
     },
     "execution_count": 15,
     "metadata": {},
     "output_type": "execute_result"
    }
   ],
   "source": [
    "data.shape[0]"
   ]
  },
  {
   "cell_type": "code",
   "execution_count": 16,
   "id": "03b81a08",
   "metadata": {},
   "outputs": [
    {
     "name": "stdout",
     "output_type": "stream",
     "text": [
      "Categorical Columns:  ['sex', 'smoker', 'region']\n",
      "\n",
      "\n",
      "Numerical Columns:  ['age', 'bmi', 'children', 'charges']\n",
      "\n",
      "\n"
     ]
    }
   ],
   "source": [
    "#Separating Numerical and Categorical columns\n",
    "\n",
    "#Checking for categorical columns\n",
    "categorical_col = []\n",
    "for i in data.dtypes.index:\n",
    "    if data.dtypes[i] == \"object\":\n",
    "        categorical_col.append(i)\n",
    "        \n",
    "print(\"Categorical Columns: \", categorical_col)\n",
    "print(\"\\n\")\n",
    "\n",
    "#Checking for Numerical columns\n",
    "numerical_col = []\n",
    "for i in data.dtypes.index:\n",
    "    if data.dtypes[i]!= \"object\":\n",
    "        numerical_col.append(i)\n",
    "        \n",
    "print(\"Numerical Columns: \", numerical_col)\n",
    "print(\"\\n\")"
   ]
  },
  {
   "cell_type": "code",
   "execution_count": 17,
   "id": "05e50b42",
   "metadata": {},
   "outputs": [
    {
     "data": {
      "text/html": [
       "<div>\n",
       "<style scoped>\n",
       "    .dataframe tbody tr th:only-of-type {\n",
       "        vertical-align: middle;\n",
       "    }\n",
       "\n",
       "    .dataframe tbody tr th {\n",
       "        vertical-align: top;\n",
       "    }\n",
       "\n",
       "    .dataframe thead th {\n",
       "        text-align: right;\n",
       "    }\n",
       "</style>\n",
       "<table border=\"1\" class=\"dataframe\">\n",
       "  <thead>\n",
       "    <tr style=\"text-align: right;\">\n",
       "      <th></th>\n",
       "      <th>No. of unique values</th>\n",
       "    </tr>\n",
       "  </thead>\n",
       "  <tbody>\n",
       "    <tr>\n",
       "      <th>age</th>\n",
       "      <td>47</td>\n",
       "    </tr>\n",
       "    <tr>\n",
       "      <th>sex</th>\n",
       "      <td>2</td>\n",
       "    </tr>\n",
       "    <tr>\n",
       "      <th>bmi</th>\n",
       "      <td>548</td>\n",
       "    </tr>\n",
       "    <tr>\n",
       "      <th>children</th>\n",
       "      <td>6</td>\n",
       "    </tr>\n",
       "    <tr>\n",
       "      <th>smoker</th>\n",
       "      <td>2</td>\n",
       "    </tr>\n",
       "    <tr>\n",
       "      <th>region</th>\n",
       "      <td>4</td>\n",
       "    </tr>\n",
       "    <tr>\n",
       "      <th>charges</th>\n",
       "      <td>1337</td>\n",
       "    </tr>\n",
       "  </tbody>\n",
       "</table>\n",
       "</div>"
      ],
      "text/plain": [
       "          No. of unique values\n",
       "age                         47\n",
       "sex                          2\n",
       "bmi                        548\n",
       "children                     6\n",
       "smoker                       2\n",
       "region                       4\n",
       "charges                   1337"
      ]
     },
     "execution_count": 17,
     "metadata": {},
     "output_type": "execute_result"
    }
   ],
   "source": [
    "# Checking number of unique values in each column\n",
    "data.nunique().to_frame(\"No. of unique values\")"
   ]
  },
  {
   "cell_type": "markdown",
   "id": "41aac663",
   "metadata": {},
   "source": [
    "# Desciption of Dataset"
   ]
  },
  {
   "cell_type": "code",
   "execution_count": 18,
   "id": "189e0a4a",
   "metadata": {},
   "outputs": [
    {
     "data": {
      "text/html": [
       "<div>\n",
       "<style scoped>\n",
       "    .dataframe tbody tr th:only-of-type {\n",
       "        vertical-align: middle;\n",
       "    }\n",
       "\n",
       "    .dataframe tbody tr th {\n",
       "        vertical-align: top;\n",
       "    }\n",
       "\n",
       "    .dataframe thead th {\n",
       "        text-align: right;\n",
       "    }\n",
       "</style>\n",
       "<table border=\"1\" class=\"dataframe\">\n",
       "  <thead>\n",
       "    <tr style=\"text-align: right;\">\n",
       "      <th></th>\n",
       "      <th>age</th>\n",
       "      <th>bmi</th>\n",
       "      <th>children</th>\n",
       "      <th>charges</th>\n",
       "    </tr>\n",
       "  </thead>\n",
       "  <tbody>\n",
       "    <tr>\n",
       "      <th>count</th>\n",
       "      <td>1338.000000</td>\n",
       "      <td>1338.000000</td>\n",
       "      <td>1338.000000</td>\n",
       "      <td>1338.000000</td>\n",
       "    </tr>\n",
       "    <tr>\n",
       "      <th>mean</th>\n",
       "      <td>39.207025</td>\n",
       "      <td>30.663397</td>\n",
       "      <td>1.094918</td>\n",
       "      <td>13270.422265</td>\n",
       "    </tr>\n",
       "    <tr>\n",
       "      <th>std</th>\n",
       "      <td>14.049960</td>\n",
       "      <td>6.098187</td>\n",
       "      <td>1.205493</td>\n",
       "      <td>12110.011237</td>\n",
       "    </tr>\n",
       "    <tr>\n",
       "      <th>min</th>\n",
       "      <td>18.000000</td>\n",
       "      <td>15.960000</td>\n",
       "      <td>0.000000</td>\n",
       "      <td>1121.873900</td>\n",
       "    </tr>\n",
       "    <tr>\n",
       "      <th>25%</th>\n",
       "      <td>27.000000</td>\n",
       "      <td>26.296250</td>\n",
       "      <td>0.000000</td>\n",
       "      <td>4740.287150</td>\n",
       "    </tr>\n",
       "    <tr>\n",
       "      <th>50%</th>\n",
       "      <td>39.000000</td>\n",
       "      <td>30.400000</td>\n",
       "      <td>1.000000</td>\n",
       "      <td>9382.033000</td>\n",
       "    </tr>\n",
       "    <tr>\n",
       "      <th>75%</th>\n",
       "      <td>51.000000</td>\n",
       "      <td>34.693750</td>\n",
       "      <td>2.000000</td>\n",
       "      <td>16639.912515</td>\n",
       "    </tr>\n",
       "    <tr>\n",
       "      <th>max</th>\n",
       "      <td>64.000000</td>\n",
       "      <td>53.130000</td>\n",
       "      <td>5.000000</td>\n",
       "      <td>63770.428010</td>\n",
       "    </tr>\n",
       "  </tbody>\n",
       "</table>\n",
       "</div>"
      ],
      "text/plain": [
       "               age          bmi     children       charges\n",
       "count  1338.000000  1338.000000  1338.000000   1338.000000\n",
       "mean     39.207025    30.663397     1.094918  13270.422265\n",
       "std      14.049960     6.098187     1.205493  12110.011237\n",
       "min      18.000000    15.960000     0.000000   1121.873900\n",
       "25%      27.000000    26.296250     0.000000   4740.287150\n",
       "50%      39.000000    30.400000     1.000000   9382.033000\n",
       "75%      51.000000    34.693750     2.000000  16639.912515\n",
       "max      64.000000    53.130000     5.000000  63770.428010"
      ]
     },
     "execution_count": 18,
     "metadata": {},
     "output_type": "execute_result"
    }
   ],
   "source": [
    "# Statistical summary of numerical column\n",
    "data.describe()"
   ]
  },
  {
   "cell_type": "markdown",
   "id": "430e2111",
   "metadata": {},
   "source": [
    "# Data Visualization"
   ]
  },
  {
   "cell_type": "markdown",
   "id": "9b47ffe0",
   "metadata": {},
   "source": [
    "# Univariat Analysis"
   ]
  },
  {
   "cell_type": "code",
   "execution_count": 19,
   "id": "1c2bffff",
   "metadata": {},
   "outputs": [
    {
     "data": {
      "image/png": "[encoded data removed]",
      "text/plain": [
       "<Figure size 360x360 with 1 Axes>"
      ]
     },
     "metadata": {
      "needs_background": "light"
     },
     "output_type": "display_data"
    }
   ],
   "source": [
    "# Visualize the distribution of age \n",
    "ax = sns.displot(data['age'])\n",
    "plt.title('Distribution of Age')\n",
    "plt.show()"
   ]
  },
  {
   "cell_type": "code",
   "execution_count": 20,
   "id": "63aa495b",
   "metadata": {},
   "outputs": [
    {
     "data": {
      "text/plain": [
       "<function matplotlib.pyplot.show(close=None, block=None)>"
      ]
     },
     "execution_count": 20,
     "metadata": {},
     "output_type": "execute_result"
    },
    {
     "data": {
      "image/png": "[encoded data removed]",
      "text/plain": [
       "<Figure size 432x288 with 1 Axes>"
      ]
     },
     "metadata": {
      "needs_background": "light"
     },
     "output_type": "display_data"
    }
   ],
   "source": [
    "# visualization of sex variables\n",
    "\n",
    "sns.countplot(x = 'sex', data = data)\n",
    "plt.title('Distribution of sex')\n",
    "plt.show"
   ]
  },
  {
   "cell_type": "code",
   "execution_count": 21,
   "id": "14ca3269",
   "metadata": {},
   "outputs": [
    {
     "data": {
      "image/png": "[encoded data removed]",
      "text/plain": [
       "<Figure size 360x360 with 1 Axes>"
      ]
     },
     "metadata": {
      "needs_background": "light"
     },
     "output_type": "display_data"
    }
   ],
   "source": [
    "# visualization of bmi variable\n",
    "\n",
    "sns.displot(data['bmi'])\n",
    "plt.title('Distribution of BMI')\n",
    "plt.show()"
   ]
  },
  {
   "cell_type": "code",
   "execution_count": 22,
   "id": "6d60aa0d",
   "metadata": {},
   "outputs": [
    {
     "data": {
      "image/png": "[encoded data removed]",
      "text/plain": [
       "<Figure size 432x288 with 1 Axes>"
      ]
     },
     "metadata": {
      "needs_background": "light"
     },
     "output_type": "display_data"
    }
   ],
   "source": [
    "# plot of children variable\n",
    "\n",
    "sns.countplot(x = 'children', data = data)\n",
    "plt.title('Children')\n",
    "plt.show()"
   ]
  },
  {
   "cell_type": "code",
   "execution_count": 23,
   "id": "9ba9e2bf",
   "metadata": {},
   "outputs": [
    {
     "data": {
      "image/png": "[encoded data removed]",
      "text/plain": [
       "<Figure size 432x288 with 1 Axes>"
      ]
     },
     "metadata": {
      "needs_background": "light"
     },
     "output_type": "display_data"
    }
   ],
   "source": [
    "# plot of smoker variable\n",
    "\n",
    "sns.countplot(x = 'smoker', data = data)\n",
    "plt.title('Smoker')\n",
    "plt.show()"
   ]
  },
  {
   "cell_type": "code",
   "execution_count": 24,
   "id": "e8ab6599",
   "metadata": {},
   "outputs": [
    {
     "data": {
      "image/png": "[encoded data removed]",
      "text/plain": [
       "<Figure size 432x288 with 1 Axes>"
      ]
     },
     "metadata": {
      "needs_background": "light"
     },
     "output_type": "display_data"
    }
   ],
   "source": [
    "# plot of region variable\n",
    "\n",
    "sns.countplot(x = 'region', data = data)\n",
    "plt.title('Region')\n",
    "plt.show()"
   ]
  },
  {
   "cell_type": "code",
   "execution_count": 25,
   "id": "175c04a0",
   "metadata": {},
   "outputs": [
    {
     "data": {
      "image/png": "[encoded data removed]",
      "text/plain": [
       "<Figure size 360x360 with 1 Axes>"
      ]
     },
     "metadata": {
      "needs_background": "light"
     },
     "output_type": "display_data"
    }
   ],
   "source": [
    "# distribution of charges variable\n",
    "\n",
    "sns.displot(data['charges'])\n",
    "plt.title('Distribution of Charges')\n",
    "plt.show()"
   ]
  },
  {
   "cell_type": "code",
   "execution_count": 26,
   "id": "834157d8",
   "metadata": {},
   "outputs": [
    {
     "data": {
      "image/png": "[encoded data removed]",
      "text/plain": [
       "<Figure size 720x432 with 4 Axes>"
      ]
     },
     "metadata": {},
     "output_type": "display_data"
    }
   ],
   "source": [
    "#let's check how the data has been distributed in remaining column\n",
    "from socket import socket\n",
    "plt.figure(figsize = (10, 6), facecolor = \"white\")\n",
    "plotnumber = 1\n",
    "for col in numerical_col:\n",
    "    if plotnumber<=4:\n",
    "        ax = plt.subplot(2, 2, plotnumber)\n",
    "        sns.distplot(data[col], color = \"m\")\n",
    "        plt.xlabel(col, fontsize = 12)\n",
    "        plt.yticks(rotation = 0, fontsize = 10)\n",
    "    plotnumber+=1\n",
    "plt.tight_layout()"
   ]
  },
  {
   "cell_type": "markdown",
   "id": "81bd4b3e",
   "metadata": {},
   "source": [
    "# Checking for Outliers"
   ]
  },
  {
   "cell_type": "code",
   "execution_count": 27,
   "id": "5130b096",
   "metadata": {},
   "outputs": [
    {
     "data": {
      "image/png": "[encoded data removed]",
      "text/plain": [
       "<Figure size 720x432 with 4 Axes>"
      ]
     },
     "metadata": {},
     "output_type": "display_data"
    }
   ],
   "source": [
    "# Lets check the outliers by plotting boxplot\n",
    "\n",
    "plt.figure(figsize = (10, 6), facecolor = \"white\")\n",
    "plotnumber = 1\n",
    "for col in numerical_col:\n",
    "    if plotnumber<=4:\n",
    "        ax = plt.subplot(2, 2, plotnumber)\n",
    "        sns.boxplot(data[col], palette = \"Set2_r\")\n",
    "        plt.xlabel(col, fontsize = 15)\n",
    "        plt.yticks(rotation = 0, fontsize = 10)\n",
    "    plotnumber+=1\n",
    "plt.tight_layout()"
   ]
  },
  {
   "cell_type": "markdown",
   "id": "3a7557f1",
   "metadata": {},
   "source": [
    "# Checking for skweness"
   ]
  },
  {
   "cell_type": "code",
   "execution_count": 28,
   "id": "3cf432e6",
   "metadata": {},
   "outputs": [
    {
     "data": {
      "text/plain": [
       "age         0.055673\n",
       "bmi         0.284047\n",
       "children    0.938380\n",
       "charges     1.515880\n",
       "dtype: float64"
      ]
     },
     "execution_count": 28,
     "metadata": {},
     "output_type": "execute_result"
    }
   ],
   "source": [
    "data.skew()"
   ]
  },
  {
   "cell_type": "markdown",
   "id": "61b07173",
   "metadata": {},
   "source": [
    "# Encoding categorical columns"
   ]
  },
  {
   "cell_type": "code",
   "execution_count": 29,
   "id": "c40d0fc5",
   "metadata": {},
   "outputs": [
    {
     "data": {
      "text/html": [
       "<div>\n",
       "<style scoped>\n",
       "    .dataframe tbody tr th:only-of-type {\n",
       "        vertical-align: middle;\n",
       "    }\n",
       "\n",
       "    .dataframe tbody tr th {\n",
       "        vertical-align: top;\n",
       "    }\n",
       "\n",
       "    .dataframe thead th {\n",
       "        text-align: right;\n",
       "    }\n",
       "</style>\n",
       "<table border=\"1\" class=\"dataframe\">\n",
       "  <thead>\n",
       "    <tr style=\"text-align: right;\">\n",
       "      <th></th>\n",
       "      <th>age</th>\n",
       "      <th>sex</th>\n",
       "      <th>bmi</th>\n",
       "      <th>children</th>\n",
       "      <th>smoker</th>\n",
       "      <th>region</th>\n",
       "      <th>charges</th>\n",
       "    </tr>\n",
       "  </thead>\n",
       "  <tbody>\n",
       "    <tr>\n",
       "      <th>0</th>\n",
       "      <td>19</td>\n",
       "      <td>0.0</td>\n",
       "      <td>27.900</td>\n",
       "      <td>0</td>\n",
       "      <td>1.0</td>\n",
       "      <td>3.0</td>\n",
       "      <td>16884.92400</td>\n",
       "    </tr>\n",
       "    <tr>\n",
       "      <th>1</th>\n",
       "      <td>18</td>\n",
       "      <td>1.0</td>\n",
       "      <td>33.770</td>\n",
       "      <td>1</td>\n",
       "      <td>0.0</td>\n",
       "      <td>2.0</td>\n",
       "      <td>1725.55230</td>\n",
       "    </tr>\n",
       "    <tr>\n",
       "      <th>2</th>\n",
       "      <td>28</td>\n",
       "      <td>1.0</td>\n",
       "      <td>33.000</td>\n",
       "      <td>3</td>\n",
       "      <td>0.0</td>\n",
       "      <td>2.0</td>\n",
       "      <td>4449.46200</td>\n",
       "    </tr>\n",
       "    <tr>\n",
       "      <th>3</th>\n",
       "      <td>33</td>\n",
       "      <td>1.0</td>\n",
       "      <td>22.705</td>\n",
       "      <td>0</td>\n",
       "      <td>0.0</td>\n",
       "      <td>1.0</td>\n",
       "      <td>21984.47061</td>\n",
       "    </tr>\n",
       "    <tr>\n",
       "      <th>4</th>\n",
       "      <td>32</td>\n",
       "      <td>1.0</td>\n",
       "      <td>28.880</td>\n",
       "      <td>0</td>\n",
       "      <td>0.0</td>\n",
       "      <td>1.0</td>\n",
       "      <td>3866.85520</td>\n",
       "    </tr>\n",
       "    <tr>\n",
       "      <th>...</th>\n",
       "      <td>...</td>\n",
       "      <td>...</td>\n",
       "      <td>...</td>\n",
       "      <td>...</td>\n",
       "      <td>...</td>\n",
       "      <td>...</td>\n",
       "      <td>...</td>\n",
       "    </tr>\n",
       "    <tr>\n",
       "      <th>1333</th>\n",
       "      <td>50</td>\n",
       "      <td>1.0</td>\n",
       "      <td>30.970</td>\n",
       "      <td>3</td>\n",
       "      <td>0.0</td>\n",
       "      <td>1.0</td>\n",
       "      <td>10600.54830</td>\n",
       "    </tr>\n",
       "    <tr>\n",
       "      <th>1334</th>\n",
       "      <td>18</td>\n",
       "      <td>0.0</td>\n",
       "      <td>31.920</td>\n",
       "      <td>0</td>\n",
       "      <td>0.0</td>\n",
       "      <td>0.0</td>\n",
       "      <td>2205.98080</td>\n",
       "    </tr>\n",
       "    <tr>\n",
       "      <th>1335</th>\n",
       "      <td>18</td>\n",
       "      <td>0.0</td>\n",
       "      <td>36.850</td>\n",
       "      <td>0</td>\n",
       "      <td>0.0</td>\n",
       "      <td>2.0</td>\n",
       "      <td>1629.83350</td>\n",
       "    </tr>\n",
       "    <tr>\n",
       "      <th>1336</th>\n",
       "      <td>21</td>\n",
       "      <td>0.0</td>\n",
       "      <td>25.800</td>\n",
       "      <td>0</td>\n",
       "      <td>0.0</td>\n",
       "      <td>3.0</td>\n",
       "      <td>2007.94500</td>\n",
       "    </tr>\n",
       "    <tr>\n",
       "      <th>1337</th>\n",
       "      <td>61</td>\n",
       "      <td>0.0</td>\n",
       "      <td>29.070</td>\n",
       "      <td>0</td>\n",
       "      <td>1.0</td>\n",
       "      <td>1.0</td>\n",
       "      <td>29141.36030</td>\n",
       "    </tr>\n",
       "  </tbody>\n",
       "</table>\n",
       "<p>1338 rows × 7 columns</p>\n",
       "</div>"
      ],
      "text/plain": [
       "      age  sex     bmi  children  smoker  region      charges\n",
       "0      19  0.0  27.900         0     1.0     3.0  16884.92400\n",
       "1      18  1.0  33.770         1     0.0     2.0   1725.55230\n",
       "2      28  1.0  33.000         3     0.0     2.0   4449.46200\n",
       "3      33  1.0  22.705         0     0.0     1.0  21984.47061\n",
       "4      32  1.0  28.880         0     0.0     1.0   3866.85520\n",
       "...   ...  ...     ...       ...     ...     ...          ...\n",
       "1333   50  1.0  30.970         3     0.0     1.0  10600.54830\n",
       "1334   18  0.0  31.920         0     0.0     0.0   2205.98080\n",
       "1335   18  0.0  36.850         0     0.0     2.0   1629.83350\n",
       "1336   21  0.0  25.800         0     0.0     3.0   2007.94500\n",
       "1337   61  0.0  29.070         0     1.0     1.0  29141.36030\n",
       "\n",
       "[1338 rows x 7 columns]"
      ]
     },
     "execution_count": 29,
     "metadata": {},
     "output_type": "execute_result"
    }
   ],
   "source": [
    "# Encoding categorical columns using OrdinalEncoder\n",
    "from sklearn.preprocessing import OrdinalEncoder\n",
    "OE = OrdinalEncoder()\n",
    "for i in data.columns:\n",
    "    if data[i].dtypes=='object':\n",
    "        data[i] = OE.fit_transform(data[i].values.reshape(-1, 1))\n",
    "data"
   ]
  },
  {
   "cell_type": "code",
   "execution_count": 30,
   "id": "4085b6af",
   "metadata": {},
   "outputs": [
    {
     "name": "stdout",
     "output_type": "stream",
     "text": [
      "<class 'pandas.core.frame.DataFrame'>\n",
      "RangeIndex: 1338 entries, 0 to 1337\n",
      "Data columns (total 7 columns):\n",
      " #   Column    Non-Null Count  Dtype  \n",
      "---  ------    --------------  -----  \n",
      " 0   age       1338 non-null   int64  \n",
      " 1   sex       1338 non-null   float64\n",
      " 2   bmi       1338 non-null   float64\n",
      " 3   children  1338 non-null   int64  \n",
      " 4   smoker    1338 non-null   float64\n",
      " 5   region    1338 non-null   float64\n",
      " 6   charges   1338 non-null   float64\n",
      "dtypes: float64(5), int64(2)\n",
      "memory usage: 73.3 KB\n"
     ]
    }
   ],
   "source": [
    "data.info()"
   ]
  },
  {
   "cell_type": "code",
   "execution_count": 31,
   "id": "7bcebec5",
   "metadata": {},
   "outputs": [
    {
     "data": {
      "text/html": [
       "<div>\n",
       "<style scoped>\n",
       "    .dataframe tbody tr th:only-of-type {\n",
       "        vertical-align: middle;\n",
       "    }\n",
       "\n",
       "    .dataframe tbody tr th {\n",
       "        vertical-align: top;\n",
       "    }\n",
       "\n",
       "    .dataframe thead th {\n",
       "        text-align: right;\n",
       "    }\n",
       "</style>\n",
       "<table border=\"1\" class=\"dataframe\">\n",
       "  <thead>\n",
       "    <tr style=\"text-align: right;\">\n",
       "      <th></th>\n",
       "      <th>age</th>\n",
       "      <th>sex</th>\n",
       "      <th>bmi</th>\n",
       "      <th>children</th>\n",
       "      <th>smoker</th>\n",
       "      <th>region</th>\n",
       "      <th>charges</th>\n",
       "    </tr>\n",
       "  </thead>\n",
       "  <tbody>\n",
       "    <tr>\n",
       "      <th>count</th>\n",
       "      <td>1338.000000</td>\n",
       "      <td>1338.000000</td>\n",
       "      <td>1338.000000</td>\n",
       "      <td>1338.000000</td>\n",
       "      <td>1338.000000</td>\n",
       "      <td>1338.000000</td>\n",
       "      <td>1338.000000</td>\n",
       "    </tr>\n",
       "    <tr>\n",
       "      <th>mean</th>\n",
       "      <td>39.207025</td>\n",
       "      <td>0.505232</td>\n",
       "      <td>30.663397</td>\n",
       "      <td>1.094918</td>\n",
       "      <td>0.204783</td>\n",
       "      <td>1.515695</td>\n",
       "      <td>13270.422265</td>\n",
       "    </tr>\n",
       "    <tr>\n",
       "      <th>std</th>\n",
       "      <td>14.049960</td>\n",
       "      <td>0.500160</td>\n",
       "      <td>6.098187</td>\n",
       "      <td>1.205493</td>\n",
       "      <td>0.403694</td>\n",
       "      <td>1.104885</td>\n",
       "      <td>12110.011237</td>\n",
       "    </tr>\n",
       "    <tr>\n",
       "      <th>min</th>\n",
       "      <td>18.000000</td>\n",
       "      <td>0.000000</td>\n",
       "      <td>15.960000</td>\n",
       "      <td>0.000000</td>\n",
       "      <td>0.000000</td>\n",
       "      <td>0.000000</td>\n",
       "      <td>1121.873900</td>\n",
       "    </tr>\n",
       "    <tr>\n",
       "      <th>25%</th>\n",
       "      <td>27.000000</td>\n",
       "      <td>0.000000</td>\n",
       "      <td>26.296250</td>\n",
       "      <td>0.000000</td>\n",
       "      <td>0.000000</td>\n",
       "      <td>1.000000</td>\n",
       "      <td>4740.287150</td>\n",
       "    </tr>\n",
       "    <tr>\n",
       "      <th>50%</th>\n",
       "      <td>39.000000</td>\n",
       "      <td>1.000000</td>\n",
       "      <td>30.400000</td>\n",
       "      <td>1.000000</td>\n",
       "      <td>0.000000</td>\n",
       "      <td>2.000000</td>\n",
       "      <td>9382.033000</td>\n",
       "    </tr>\n",
       "    <tr>\n",
       "      <th>75%</th>\n",
       "      <td>51.000000</td>\n",
       "      <td>1.000000</td>\n",
       "      <td>34.693750</td>\n",
       "      <td>2.000000</td>\n",
       "      <td>0.000000</td>\n",
       "      <td>2.000000</td>\n",
       "      <td>16639.912515</td>\n",
       "    </tr>\n",
       "    <tr>\n",
       "      <th>max</th>\n",
       "      <td>64.000000</td>\n",
       "      <td>1.000000</td>\n",
       "      <td>53.130000</td>\n",
       "      <td>5.000000</td>\n",
       "      <td>1.000000</td>\n",
       "      <td>3.000000</td>\n",
       "      <td>63770.428010</td>\n",
       "    </tr>\n",
       "  </tbody>\n",
       "</table>\n",
       "</div>"
      ],
      "text/plain": [
       "               age          sex          bmi     children       smoker  \\\n",
       "count  1338.000000  1338.000000  1338.000000  1338.000000  1338.000000   \n",
       "mean     39.207025     0.505232    30.663397     1.094918     0.204783   \n",
       "std      14.049960     0.500160     6.098187     1.205493     0.403694   \n",
       "min      18.000000     0.000000    15.960000     0.000000     0.000000   \n",
       "25%      27.000000     0.000000    26.296250     0.000000     0.000000   \n",
       "50%      39.000000     1.000000    30.400000     1.000000     0.000000   \n",
       "75%      51.000000     1.000000    34.693750     2.000000     0.000000   \n",
       "max      64.000000     1.000000    53.130000     5.000000     1.000000   \n",
       "\n",
       "            region       charges  \n",
       "count  1338.000000   1338.000000  \n",
       "mean      1.515695  13270.422265  \n",
       "std       1.104885  12110.011237  \n",
       "min       0.000000   1121.873900  \n",
       "25%       1.000000   4740.287150  \n",
       "50%       2.000000   9382.033000  \n",
       "75%       2.000000  16639.912515  \n",
       "max       3.000000  63770.428010  "
      ]
     },
     "execution_count": 31,
     "metadata": {},
     "output_type": "execute_result"
    }
   ],
   "source": [
    "data.describe()"
   ]
  },
  {
   "cell_type": "markdown",
   "id": "da7ade07",
   "metadata": {},
   "source": [
    "# Correlation between target variable and independent variables."
   ]
  },
  {
   "cell_type": "code",
   "execution_count": 32,
   "id": "28b74be1",
   "metadata": {},
   "outputs": [
    {
     "data": {
      "text/html": [
       "<div>\n",
       "<style scoped>\n",
       "    .dataframe tbody tr th:only-of-type {\n",
       "        vertical-align: middle;\n",
       "    }\n",
       "\n",
       "    .dataframe tbody tr th {\n",
       "        vertical-align: top;\n",
       "    }\n",
       "\n",
       "    .dataframe thead th {\n",
       "        text-align: right;\n",
       "    }\n",
       "</style>\n",
       "<table border=\"1\" class=\"dataframe\">\n",
       "  <thead>\n",
       "    <tr style=\"text-align: right;\">\n",
       "      <th></th>\n",
       "      <th>age</th>\n",
       "      <th>sex</th>\n",
       "      <th>bmi</th>\n",
       "      <th>children</th>\n",
       "      <th>smoker</th>\n",
       "      <th>region</th>\n",
       "      <th>charges</th>\n",
       "    </tr>\n",
       "  </thead>\n",
       "  <tbody>\n",
       "    <tr>\n",
       "      <th>age</th>\n",
       "      <td>1.000000</td>\n",
       "      <td>-0.020856</td>\n",
       "      <td>0.109272</td>\n",
       "      <td>0.042469</td>\n",
       "      <td>-0.025019</td>\n",
       "      <td>0.002127</td>\n",
       "      <td>0.299008</td>\n",
       "    </tr>\n",
       "    <tr>\n",
       "      <th>sex</th>\n",
       "      <td>-0.020856</td>\n",
       "      <td>1.000000</td>\n",
       "      <td>0.046371</td>\n",
       "      <td>0.017163</td>\n",
       "      <td>0.076185</td>\n",
       "      <td>0.004588</td>\n",
       "      <td>0.057292</td>\n",
       "    </tr>\n",
       "    <tr>\n",
       "      <th>bmi</th>\n",
       "      <td>0.109272</td>\n",
       "      <td>0.046371</td>\n",
       "      <td>1.000000</td>\n",
       "      <td>0.012759</td>\n",
       "      <td>0.003750</td>\n",
       "      <td>0.157566</td>\n",
       "      <td>0.198341</td>\n",
       "    </tr>\n",
       "    <tr>\n",
       "      <th>children</th>\n",
       "      <td>0.042469</td>\n",
       "      <td>0.017163</td>\n",
       "      <td>0.012759</td>\n",
       "      <td>1.000000</td>\n",
       "      <td>0.007673</td>\n",
       "      <td>0.016569</td>\n",
       "      <td>0.067998</td>\n",
       "    </tr>\n",
       "    <tr>\n",
       "      <th>smoker</th>\n",
       "      <td>-0.025019</td>\n",
       "      <td>0.076185</td>\n",
       "      <td>0.003750</td>\n",
       "      <td>0.007673</td>\n",
       "      <td>1.000000</td>\n",
       "      <td>-0.002181</td>\n",
       "      <td>0.787251</td>\n",
       "    </tr>\n",
       "    <tr>\n",
       "      <th>region</th>\n",
       "      <td>0.002127</td>\n",
       "      <td>0.004588</td>\n",
       "      <td>0.157566</td>\n",
       "      <td>0.016569</td>\n",
       "      <td>-0.002181</td>\n",
       "      <td>1.000000</td>\n",
       "      <td>-0.006208</td>\n",
       "    </tr>\n",
       "    <tr>\n",
       "      <th>charges</th>\n",
       "      <td>0.299008</td>\n",
       "      <td>0.057292</td>\n",
       "      <td>0.198341</td>\n",
       "      <td>0.067998</td>\n",
       "      <td>0.787251</td>\n",
       "      <td>-0.006208</td>\n",
       "      <td>1.000000</td>\n",
       "    </tr>\n",
       "  </tbody>\n",
       "</table>\n",
       "</div>"
      ],
      "text/plain": [
       "               age       sex       bmi  children    smoker    region   charges\n",
       "age       1.000000 -0.020856  0.109272  0.042469 -0.025019  0.002127  0.299008\n",
       "sex      -0.020856  1.000000  0.046371  0.017163  0.076185  0.004588  0.057292\n",
       "bmi       0.109272  0.046371  1.000000  0.012759  0.003750  0.157566  0.198341\n",
       "children  0.042469  0.017163  0.012759  1.000000  0.007673  0.016569  0.067998\n",
       "smoker   -0.025019  0.076185  0.003750  0.007673  1.000000 -0.002181  0.787251\n",
       "region    0.002127  0.004588  0.157566  0.016569 -0.002181  1.000000 -0.006208\n",
       "charges   0.299008  0.057292  0.198341  0.067998  0.787251 -0.006208  1.000000"
      ]
     },
     "execution_count": 32,
     "metadata": {},
     "output_type": "execute_result"
    }
   ],
   "source": [
    "# Checking the correlation between features and the target\n",
    "cor = data.corr()\n",
    "cor"
   ]
  },
  {
   "cell_type": "code",
   "execution_count": 33,
   "id": "3f65e1ac",
   "metadata": {},
   "outputs": [
    {
     "data": {
      "image/png": "[encoded data removed]",
      "text/plain": [
       "<Figure size 1440x1080 with 2 Axes>"
      ]
     },
     "metadata": {
      "needs_background": "light"
     },
     "output_type": "display_data"
    }
   ],
   "source": [
    "# Visualizing the correlation matrix by plotting heatmap\n",
    "plt.figure(figsize = (20, 15))\n",
    "sns.heatmap(data.corr(), linewidths = 0.1, fmt = \".1g\", linecolor = \"black\", annot = True, cmap = \"Blues_r\")\n",
    "plt.yticks(rotation = 0);\n",
    "plt.show()"
   ]
  },
  {
   "cell_type": "code",
   "execution_count": 34,
   "id": "49856f38",
   "metadata": {},
   "outputs": [
    {
     "data": {
      "text/plain": [
       "charges     1.000000\n",
       "smoker      0.787251\n",
       "age         0.299008\n",
       "bmi         0.198341\n",
       "children    0.067998\n",
       "sex         0.057292\n",
       "region     -0.006208\n",
       "Name: charges, dtype: float64"
      ]
     },
     "execution_count": 34,
     "metadata": {},
     "output_type": "execute_result"
    }
   ],
   "source": [
    "cor['charges'].sort_values(ascending = False)"
   ]
  },
  {
   "cell_type": "markdown",
   "id": "99172735",
   "metadata": {},
   "source": [
    "# Visualizing the correlation between label and features using bar plot"
   ]
  },
  {
   "cell_type": "code",
   "execution_count": 35,
   "id": "f35e0752",
   "metadata": {},
   "outputs": [
    {
     "data": {
      "image/png": "[encoded data removed]",
      "text/plain": [
       "<Figure size 1584x504 with 1 Axes>"
      ]
     },
     "metadata": {
      "needs_background": "light"
     },
     "output_type": "display_data"
    }
   ],
   "source": [
    "plt.figure(figsize = (22, 7))\n",
    "data.corr()['charges'].sort_values(ascending = False).drop(['charges']).plot(kind = 'bar', color = \"m\")\n",
    "plt.xlabel('Feature', fontsize = 15)\n",
    "plt.ylabel('Target', fontsize = 15)\n",
    "plt.title(\"Correlation between label and features using barplot\", fontsize = 20)\n",
    "plt.show()"
   ]
  },
  {
   "cell_type": "markdown",
   "id": "09d2ca76",
   "metadata": {},
   "source": [
    "# Separating features and label"
   ]
  },
  {
   "cell_type": "code",
   "execution_count": 36,
   "id": "06ef05d4",
   "metadata": {},
   "outputs": [],
   "source": [
    "x = data.drop(\"charges\", axis = 1)\n",
    "y = data[\"charges\"]"
   ]
  },
  {
   "cell_type": "markdown",
   "id": "5202854f",
   "metadata": {},
   "source": [
    "# Feature Scaling using Standard Scalarization"
   ]
  },
  {
   "cell_type": "code",
   "execution_count": 37,
   "id": "164b44d0",
   "metadata": {},
   "outputs": [
    {
     "data": {
      "text/html": [
       "<div>\n",
       "<style scoped>\n",
       "    .dataframe tbody tr th:only-of-type {\n",
       "        vertical-align: middle;\n",
       "    }\n",
       "\n",
       "    .dataframe tbody tr th {\n",
       "        vertical-align: top;\n",
       "    }\n",
       "\n",
       "    .dataframe thead th {\n",
       "        text-align: right;\n",
       "    }\n",
       "</style>\n",
       "<table border=\"1\" class=\"dataframe\">\n",
       "  <thead>\n",
       "    <tr style=\"text-align: right;\">\n",
       "      <th></th>\n",
       "      <th>age</th>\n",
       "      <th>sex</th>\n",
       "      <th>bmi</th>\n",
       "      <th>children</th>\n",
       "      <th>smoker</th>\n",
       "      <th>region</th>\n",
       "    </tr>\n",
       "  </thead>\n",
       "  <tbody>\n",
       "    <tr>\n",
       "      <th>0</th>\n",
       "      <td>-1.438764</td>\n",
       "      <td>-1.010519</td>\n",
       "      <td>-0.453320</td>\n",
       "      <td>-0.908614</td>\n",
       "      <td>1.970587</td>\n",
       "      <td>1.343905</td>\n",
       "    </tr>\n",
       "    <tr>\n",
       "      <th>1</th>\n",
       "      <td>-1.509965</td>\n",
       "      <td>0.989591</td>\n",
       "      <td>0.509621</td>\n",
       "      <td>-0.078767</td>\n",
       "      <td>-0.507463</td>\n",
       "      <td>0.438495</td>\n",
       "    </tr>\n",
       "    <tr>\n",
       "      <th>2</th>\n",
       "      <td>-0.797954</td>\n",
       "      <td>0.989591</td>\n",
       "      <td>0.383307</td>\n",
       "      <td>1.580926</td>\n",
       "      <td>-0.507463</td>\n",
       "      <td>0.438495</td>\n",
       "    </tr>\n",
       "    <tr>\n",
       "      <th>3</th>\n",
       "      <td>-0.441948</td>\n",
       "      <td>0.989591</td>\n",
       "      <td>-1.305531</td>\n",
       "      <td>-0.908614</td>\n",
       "      <td>-0.507463</td>\n",
       "      <td>-0.466915</td>\n",
       "    </tr>\n",
       "    <tr>\n",
       "      <th>4</th>\n",
       "      <td>-0.513149</td>\n",
       "      <td>0.989591</td>\n",
       "      <td>-0.292556</td>\n",
       "      <td>-0.908614</td>\n",
       "      <td>-0.507463</td>\n",
       "      <td>-0.466915</td>\n",
       "    </tr>\n",
       "    <tr>\n",
       "      <th>...</th>\n",
       "      <td>...</td>\n",
       "      <td>...</td>\n",
       "      <td>...</td>\n",
       "      <td>...</td>\n",
       "      <td>...</td>\n",
       "      <td>...</td>\n",
       "    </tr>\n",
       "    <tr>\n",
       "      <th>1333</th>\n",
       "      <td>0.768473</td>\n",
       "      <td>0.989591</td>\n",
       "      <td>0.050297</td>\n",
       "      <td>1.580926</td>\n",
       "      <td>-0.507463</td>\n",
       "      <td>-0.466915</td>\n",
       "    </tr>\n",
       "    <tr>\n",
       "      <th>1334</th>\n",
       "      <td>-1.509965</td>\n",
       "      <td>-1.010519</td>\n",
       "      <td>0.206139</td>\n",
       "      <td>-0.908614</td>\n",
       "      <td>-0.507463</td>\n",
       "      <td>-1.372326</td>\n",
       "    </tr>\n",
       "    <tr>\n",
       "      <th>1335</th>\n",
       "      <td>-1.509965</td>\n",
       "      <td>-1.010519</td>\n",
       "      <td>1.014878</td>\n",
       "      <td>-0.908614</td>\n",
       "      <td>-0.507463</td>\n",
       "      <td>0.438495</td>\n",
       "    </tr>\n",
       "    <tr>\n",
       "      <th>1336</th>\n",
       "      <td>-1.296362</td>\n",
       "      <td>-1.010519</td>\n",
       "      <td>-0.797813</td>\n",
       "      <td>-0.908614</td>\n",
       "      <td>-0.507463</td>\n",
       "      <td>1.343905</td>\n",
       "    </tr>\n",
       "    <tr>\n",
       "      <th>1337</th>\n",
       "      <td>1.551686</td>\n",
       "      <td>-1.010519</td>\n",
       "      <td>-0.261388</td>\n",
       "      <td>-0.908614</td>\n",
       "      <td>1.970587</td>\n",
       "      <td>-0.466915</td>\n",
       "    </tr>\n",
       "  </tbody>\n",
       "</table>\n",
       "<p>1338 rows × 6 columns</p>\n",
       "</div>"
      ],
      "text/plain": [
       "           age       sex       bmi  children    smoker    region\n",
       "0    -1.438764 -1.010519 -0.453320 -0.908614  1.970587  1.343905\n",
       "1    -1.509965  0.989591  0.509621 -0.078767 -0.507463  0.438495\n",
       "2    -0.797954  0.989591  0.383307  1.580926 -0.507463  0.438495\n",
       "3    -0.441948  0.989591 -1.305531 -0.908614 -0.507463 -0.466915\n",
       "4    -0.513149  0.989591 -0.292556 -0.908614 -0.507463 -0.466915\n",
       "...        ...       ...       ...       ...       ...       ...\n",
       "1333  0.768473  0.989591  0.050297  1.580926 -0.507463 -0.466915\n",
       "1334 -1.509965 -1.010519  0.206139 -0.908614 -0.507463 -1.372326\n",
       "1335 -1.509965 -1.010519  1.014878 -0.908614 -0.507463  0.438495\n",
       "1336 -1.296362 -1.010519 -0.797813 -0.908614 -0.507463  1.343905\n",
       "1337  1.551686 -1.010519 -0.261388 -0.908614  1.970587 -0.466915\n",
       "\n",
       "[1338 rows x 6 columns]"
      ]
     },
     "execution_count": 37,
     "metadata": {},
     "output_type": "execute_result"
    }
   ],
   "source": [
    "from sklearn.preprocessing import StandardScaler\n",
    "scaler = StandardScaler()\n",
    "x = pd.DataFrame(scaler.fit_transform(x), columns = x.columns)\n",
    "x"
   ]
  },
  {
   "cell_type": "markdown",
   "id": "162241ba",
   "metadata": {},
   "source": [
    "# Checking Variance Inflation Factor(VIF)"
   ]
  },
  {
   "cell_type": "code",
   "execution_count": 38,
   "id": "1939ffd4",
   "metadata": {},
   "outputs": [
    {
     "data": {
      "text/html": [
       "<div>\n",
       "<style scoped>\n",
       "    .dataframe tbody tr th:only-of-type {\n",
       "        vertical-align: middle;\n",
       "    }\n",
       "\n",
       "    .dataframe tbody tr th {\n",
       "        vertical-align: top;\n",
       "    }\n",
       "\n",
       "    .dataframe thead th {\n",
       "        text-align: right;\n",
       "    }\n",
       "</style>\n",
       "<table border=\"1\" class=\"dataframe\">\n",
       "  <thead>\n",
       "    <tr style=\"text-align: right;\">\n",
       "      <th></th>\n",
       "      <th>VIF values</th>\n",
       "      <th>Features</th>\n",
       "    </tr>\n",
       "  </thead>\n",
       "  <tbody>\n",
       "    <tr>\n",
       "      <th>0</th>\n",
       "      <td>1.015394</td>\n",
       "      <td>age</td>\n",
       "    </tr>\n",
       "    <tr>\n",
       "      <th>1</th>\n",
       "      <td>1.008889</td>\n",
       "      <td>sex</td>\n",
       "    </tr>\n",
       "    <tr>\n",
       "      <th>2</th>\n",
       "      <td>1.040608</td>\n",
       "      <td>bmi</td>\n",
       "    </tr>\n",
       "    <tr>\n",
       "      <th>3</th>\n",
       "      <td>1.002482</td>\n",
       "      <td>children</td>\n",
       "    </tr>\n",
       "    <tr>\n",
       "      <th>4</th>\n",
       "      <td>1.006466</td>\n",
       "      <td>smoker</td>\n",
       "    </tr>\n",
       "    <tr>\n",
       "      <th>5</th>\n",
       "      <td>1.025966</td>\n",
       "      <td>region</td>\n",
       "    </tr>\n",
       "  </tbody>\n",
       "</table>\n",
       "</div>"
      ],
      "text/plain": [
       "   VIF values  Features\n",
       "0    1.015394       age\n",
       "1    1.008889       sex\n",
       "2    1.040608       bmi\n",
       "3    1.002482  children\n",
       "4    1.006466    smoker\n",
       "5    1.025966    region"
      ]
     },
     "execution_count": 38,
     "metadata": {},
     "output_type": "execute_result"
    }
   ],
   "source": [
    "# Finding variance inflation factor in each scaled column i.e, x.shape[1] (1/(1-R2))\n",
    "from statsmodels.stats.outliers_influence import variance_inflation_factor\n",
    "vif = pd.DataFrame()\n",
    "vif[\"VIF values\"] = [variance_inflation_factor(x.values, i)\n",
    "                     for i in range(len(x.columns))]\n",
    "vif[\"Features\"] = x.columns\n",
    "\n",
    "vif"
   ]
  },
  {
   "cell_type": "code",
   "execution_count": 39,
   "id": "b4cde303",
   "metadata": {},
   "outputs": [
    {
     "data": {
      "text/plain": [
       "1639.56310     2\n",
       "11987.16820    1\n",
       "7624.63000     1\n",
       "12523.60480    1\n",
       "10355.64100    1\n",
       "              ..\n",
       "62592.87309    1\n",
       "18903.49141    1\n",
       "8538.28845     1\n",
       "11165.41765    1\n",
       "60021.39897    1\n",
       "Name: charges, Length: 1337, dtype: int64"
      ]
     },
     "execution_count": 39,
     "metadata": {},
     "output_type": "execute_result"
    }
   ],
   "source": [
    "y.value_counts()"
   ]
  },
  {
   "cell_type": "markdown",
   "id": "02e26e76",
   "metadata": {},
   "source": [
    "# Modelling"
   ]
  },
  {
   "cell_type": "markdown",
   "id": "cbbb3cd3",
   "metadata": {},
   "source": [
    "# Finding the best random state"
   ]
  },
  {
   "cell_type": "code",
   "execution_count": 40,
   "id": "4dee6b19",
   "metadata": {},
   "outputs": [],
   "source": [
    "# importing necessary libraries:\n",
    "\n",
    "from sklearn.model_selection import train_test_split\n",
    "from sklearn.metrics import mean_absolute_error\n",
    "from sklearn.metrics import mean_squared_error\n",
    "from sklearn.metrics import r2_score\n",
    "from sklearn.ensemble import GradientBoostingRegressor\n",
    "from sklearn.linear_model import LinearRegression"
   ]
  },
  {
   "cell_type": "code",
   "execution_count": 41,
   "id": "e7bfc15a",
   "metadata": {},
   "outputs": [
    {
     "name": "stdout",
     "output_type": "stream",
     "text": [
      "Best accuracy is  0.8041576323426198 at random state 112\n"
     ]
    }
   ],
   "source": [
    "maxAccu = 0\n",
    "maxRs = 0\n",
    "for i in range(1, 200):\n",
    "    x_train, x_test, y_train, y_test = train_test_split(x, y, test_size = 0.30, random_state = i)\n",
    "    LR = LinearRegression()\n",
    "    LR.fit(x_train, y_train)\n",
    "    pred = LR.predict(x_test)\n",
    "    acc = r2_score(y_test, pred)\n",
    "    if acc>maxAccu:\n",
    "        maxAccu = acc\n",
    "        maxRs = i\n",
    "        \n",
    "print(\"Best accuracy is \", maxAccu, \"at random state\", maxRs)"
   ]
  },
  {
   "cell_type": "markdown",
   "id": "d3cac012",
   "metadata": {},
   "source": [
    "# Creating train test split"
   ]
  },
  {
   "cell_type": "code",
   "execution_count": 42,
   "id": "54eb225e",
   "metadata": {},
   "outputs": [],
   "source": [
    "x_train, x_test, y_train, y_test = train_test_split(x, y, test_size = 0.3, random_state = maxRs)"
   ]
  },
  {
   "cell_type": "markdown",
   "id": "10b60f74",
   "metadata": {},
   "source": [
    "# Regression Algorithm"
   ]
  },
  {
   "cell_type": "code",
   "execution_count": 43,
   "id": "af8b2581",
   "metadata": {},
   "outputs": [],
   "source": [
    "from sklearn.linear_model import LinearRegression\n",
    "from sklearn.ensemble import RandomForestRegressor\n",
    "from sklearn.tree import DecisionTreeRegressor\n",
    "from sklearn.neighbors import KNeighborsRegressor as KNN\n",
    "from sklearn.linear_model import Lasso, Ridge"
   ]
  },
  {
   "cell_type": "code",
   "execution_count": 44,
   "id": "ed1d3e47",
   "metadata": {},
   "outputs": [
    {
     "name": "stdout",
     "output_type": "stream",
     "text": [
      "R2_score:  0.8041576323426198\n",
      "R2_score on training data:-  72.53763959645671\n",
      "Mean Absolute Error:-  3916.569265561581\n",
      "Mean Squared Error:-  29880673.555641137\n",
      "Root Mean Squared Error:-  5466.321757419804\n"
     ]
    }
   ],
   "source": [
    "LR = LinearRegression()\n",
    "LR.fit(x_train, y_train)\n",
    "pred_LR = LR.predict(x_test)\n",
    "pred_train = LR.predict(x_train)\n",
    "print('R2_score: ', r2_score(y_test, pred_LR))\n",
    "print('R2_score on training data:- ',r2_score(y_train, pred_train)*100)\n",
    "print('Mean Absolute Error:- ',mean_absolute_error(y_test, pred_LR))\n",
    "print('Mean Squared Error:- ',mean_squared_error(y_test, pred_LR))\n",
    "print(\"Root Mean Squared Error:- \",np.sqrt(mean_squared_error(y_test, pred_LR)))"
   ]
  },
  {
   "cell_type": "code",
   "execution_count": 45,
   "id": "807e9528",
   "metadata": {},
   "outputs": [
    {
     "data": {
      "image/png": "[encoded data removed]",
      "text/plain": [
       "<Figure size 720x432 with 1 Axes>"
      ]
     },
     "metadata": {
      "needs_background": "light"
     },
     "output_type": "display_data"
    }
   ],
   "source": [
    "plt.figure(figsize=(10,6))\n",
    "plt.scatter(x = pred_LR, y = y_test, color = 'r')\n",
    "plt.plot(pred_LR, pred_LR, color = 'b')\n",
    "plt.xlabel('Actual', fontsize = 14)\n",
    "plt.ylabel('Predicted', fontsize = 14)\n",
    "plt.title(\"Linear Regression\", fontsize = 18)\n",
    "plt.show()"
   ]
  },
  {
   "cell_type": "code",
   "execution_count": 46,
   "id": "3525e1f4",
   "metadata": {},
   "outputs": [
    {
     "name": "stdout",
     "output_type": "stream",
     "text": [
      "R2_score:  0.8954745419809773\n",
      "R2_score on training data:-  97.2053706744566\n",
      "Mean Absolute Error:-  2259.125645421724\n",
      "Mean Squared Error:-  15947984.732212711\n",
      "Root Mean Squared Error:-  3993.492798567779\n"
     ]
    }
   ],
   "source": [
    "RFR = RandomForestRegressor()\n",
    "RFR.fit(x_train, y_train)\n",
    "pred_RFR = RFR.predict(x_test)\n",
    "pred_train = RFR.predict(x_train)\n",
    "print('R2_score: ', r2_score(y_test, pred_RFR))\n",
    "print('R2_score on training data:- ',r2_score(y_train, pred_train)*100)\n",
    "print('Mean Absolute Error:- ',mean_absolute_error(y_test, pred_RFR))\n",
    "print('Mean Squared Error:- ',mean_squared_error(y_test, pred_RFR))\n",
    "print(\"Root Mean Squared Error:- \",np.sqrt(mean_squared_error(y_test, pred_RFR)))"
   ]
  },
  {
   "cell_type": "code",
   "execution_count": 47,
   "id": "54fae321",
   "metadata": {},
   "outputs": [
    {
     "name": "stdout",
     "output_type": "stream",
     "text": [
      "R2_score:  0.8563501742148685\n",
      "R2_score on training data:-  85.85323135123244\n",
      "Mean Absolute Error:-  3017.257427708955\n",
      "Mean Squared Error:-  21917390.0007151\n",
      "Root Mean Squared Error:-  4681.6012218807255\n"
     ]
    }
   ],
   "source": [
    "KNN = KNN()\n",
    "KNN.fit(x_train, y_train)\n",
    "pred_KNN = KNN.predict(x_test)\n",
    "pred_train = KNN.predict(x_train)\n",
    "print('R2_score: ', r2_score(y_test, pred_KNN))\n",
    "print('R2_score on training data:- ',r2_score(y_train, pred_train)*100)\n",
    "print('Mean Absolute Error:- ',mean_absolute_error(y_test, pred_KNN))\n",
    "print('Mean Squared Error:- ',mean_squared_error(y_test, pred_KNN))\n",
    "print(\"Root Mean Squared Error:- \",np.sqrt(mean_squared_error(y_test, pred_KNN)))"
   ]
  },
  {
   "cell_type": "code",
   "execution_count": 48,
   "id": "95336cd0",
   "metadata": {},
   "outputs": [
    {
     "name": "stdout",
     "output_type": "stream",
     "text": [
      "R2_score:  0.9125648922848675\n",
      "R2_score on training data:-  89.20974656760883\n",
      "Mean Absolute Error:-  2184.2966076313714\n",
      "Mean Squared Error:-  13340422.413136294\n",
      "Root Mean Squared Error:-  3652.454299938097\n"
     ]
    }
   ],
   "source": [
    "GBR = GradientBoostingRegressor()\n",
    "GBR.fit(x_train, y_train)\n",
    "pred_GBR = GBR.predict(x_test)\n",
    "pred_train = GBR.predict(x_train)\n",
    "print('R2_score: ', r2_score(y_test, pred_GBR))\n",
    "print('R2_score on training data:- ',r2_score(y_train, pred_train)*100)\n",
    "print('Mean Absolute Error:- ',mean_absolute_error(y_test, pred_GBR))\n",
    "print('Mean Squared Error:- ',mean_squared_error(y_test, pred_GBR))\n",
    "print(\"Root Mean Squared Error:- \",np.sqrt(mean_squared_error(y_test, pred_GBR)))"
   ]
  },
  {
   "cell_type": "code",
   "execution_count": 49,
   "id": "60f2043f",
   "metadata": {},
   "outputs": [
    {
     "name": "stdout",
     "output_type": "stream",
     "text": [
      "R2_score:  0.8041654365641747\n",
      "R2_score on training data:-  72.53763490441396\n",
      "Mean Absolute Error:-  3916.4118419810025\n",
      "Mean Squared Error:-  29879482.82556864\n",
      "Root Mean Squared Error:-  5466.212841224593\n"
     ]
    }
   ],
   "source": [
    "LA = Lasso()\n",
    "LA.fit(x_train, y_train)\n",
    "pred_LA = LA.predict(x_test)\n",
    "pred_train = LA.predict(x_train)\n",
    "print('R2_score: ', r2_score(y_test, pred_LA))\n",
    "print('R2_score on training data:- ',r2_score(y_train, pred_train)*100)\n",
    "print('Mean Absolute Error:- ',mean_absolute_error(y_test, pred_LA))\n",
    "print('Mean Squared Error:- ',mean_squared_error(y_test, pred_LA))\n",
    "print(\"Root Mean Squared Error:- \",np.sqrt(mean_squared_error(y_test, pred_LA)))"
   ]
  },
  {
   "cell_type": "code",
   "execution_count": 50,
   "id": "ea80f211",
   "metadata": {},
   "outputs": [
    {
     "name": "stdout",
     "output_type": "stream",
     "text": [
      "R2_score:  0.8041576323426198\n",
      "R2_score on training data:-  72.53754715329912\n",
      "Mean Absolute Error:-  3916.569265561581\n",
      "Mean Squared Error:-  29880673.555641137\n",
      "Root Mean Squared Error:-  5466.321757419804\n"
     ]
    }
   ],
   "source": [
    "RD = Ridge()\n",
    "RD.fit(x_train, y_train)\n",
    "pred_RD = LR.predict(x_test)\n",
    "pred_train = RD.predict(x_train)\n",
    "print('R2_score: ', r2_score(y_test, pred_RD))\n",
    "print('R2_score on training data:- ',r2_score(y_train, pred_train)*100)\n",
    "print('Mean Absolute Error:- ',mean_absolute_error(y_test, pred_RD))\n",
    "print('Mean Squared Error:- ',mean_squared_error(y_test, pred_RD))\n",
    "print(\"Root Mean Squared Error:- \",np.sqrt(mean_squared_error(y_test, pred_RD)))"
   ]
  },
  {
   "cell_type": "code",
   "execution_count": 51,
   "id": "d17247d2",
   "metadata": {},
   "outputs": [
    {
     "name": "stdout",
     "output_type": "stream",
     "text": [
      "R2_score:  0.8058973826611473\n",
      "R2_score on training data:-  99.86401505730052\n",
      "Mean Absolute Error:-  2325.581290221393\n",
      "Mean Squared Error:-  29615230.934833005\n",
      "Root Mean Squared Error:-  5441.987774226713\n"
     ]
    }
   ],
   "source": [
    "DTR = DecisionTreeRegressor()\n",
    "DTR.fit(x_train, y_train)\n",
    "pred_DTR = DTR.predict(x_test)\n",
    "pred_train = DTR.predict(x_train)\n",
    "print('R2_score: ', r2_score(y_test, pred_DTR))\n",
    "print('R2_score on training data:- ',r2_score(y_train, pred_train)*100)\n",
    "print('Mean Absolute Error:- ',mean_absolute_error(y_test, pred_DTR))\n",
    "print('Mean Squared Error:- ',mean_squared_error(y_test, pred_DTR))\n",
    "print(\"Root Mean Squared Error:- \",np.sqrt(mean_squared_error(y_test, pred_DTR)))"
   ]
  },
  {
   "cell_type": "code",
   "execution_count": 52,
   "id": "7f01914d",
   "metadata": {},
   "outputs": [
    {
     "name": "stdout",
     "output_type": "stream",
     "text": [
      "R2_score:  -0.07313099244868915\n",
      "R2_score on training data:-  -9.196600273815815\n",
      "Mean Absolute Error:-  8523.47380438049\n",
      "Mean Squared Error:-  163733094.3828185\n",
      "Root Mean Squared Error:-  12795.823317896293\n"
     ]
    }
   ],
   "source": [
    "from sklearn.svm import SVR\n",
    "svr = SVR()\n",
    "svr.fit(x_train, y_train)\n",
    "pred_svr = svr.predict(x_test)\n",
    "pred_train = svr.predict(x_train)\n",
    "print('R2_score: ', r2_score(y_test, pred_svr))\n",
    "print('R2_score on training data:- ',r2_score(y_train, pred_train)*100)\n",
    "print('Mean Absolute Error:- ',mean_absolute_error(y_test, pred_svr))\n",
    "print('Mean Squared Error:- ',mean_squared_error(y_test, pred_svr))\n",
    "print(\"Root Mean Squared Error:- \",np.sqrt(mean_squared_error(y_test, pred_svr)))"
   ]
  },
  {
   "cell_type": "code",
   "execution_count": 53,
   "id": "458603a5",
   "metadata": {},
   "outputs": [
    {
     "name": "stdout",
     "output_type": "stream",
     "text": [
      "R2_score:  0.8778877546788122\n",
      "R2_score on training data:-  99.86401505730052\n",
      "Mean Absolute Error:-  2333.1096336757464\n",
      "Mean Squared Error:-  18631290.987924676\n",
      "Root Mean Squared Error:-  4316.397918163324\n"
     ]
    }
   ],
   "source": [
    "from sklearn.ensemble import ExtraTreesRegressor\n",
    "ETR = ExtraTreesRegressor()\n",
    "ETR.fit(x_train, y_train)\n",
    "pred_ETR = ETR.predict(x_test)\n",
    "pred_train = ETR.predict(x_train)\n",
    "print('R2_score: ', r2_score(y_test, pred_ETR))\n",
    "print('R2_score on training data:- ',r2_score(y_train, pred_train)*100)\n",
    "print('Mean Absolute Error:- ',mean_absolute_error(y_test, pred_ETR))\n",
    "print('Mean Squared Error:- ',mean_squared_error(y_test, pred_ETR))\n",
    "print(\"Root Mean Squared Error:- \",np.sqrt(mean_squared_error(y_test, pred_ETR)))"
   ]
  },
  {
   "cell_type": "markdown",
   "id": "a6ba44d5",
   "metadata": {},
   "source": [
    "# Cross Validation Score"
   ]
  },
  {
   "cell_type": "code",
   "execution_count": 54,
   "id": "38e14150",
   "metadata": {},
   "outputs": [],
   "source": [
    "from sklearn.model_selection import cross_val_score"
   ]
  },
  {
   "cell_type": "code",
   "execution_count": 55,
   "id": "71ec70e5",
   "metadata": {},
   "outputs": [
    {
     "name": "stdout",
     "output_type": "stream",
     "text": [
      "[0.76123983 0.70838663 0.77786772 0.73365206 0.7551335 ]\n",
      "0.7472559473580954\n",
      "Difference between R2 score and cross validation score is -  0.056901684984524414\n"
     ]
    }
   ],
   "source": [
    "# Checking cv score for LinearRegression\n",
    "score = cross_val_score(LR, x, y)\n",
    "print(score)\n",
    "print(score.mean())\n",
    "print(\"Difference between R2 score and cross validation score is - \", r2_score(y_test, pred_LR) - score.mean())"
   ]
  },
  {
   "cell_type": "code",
   "execution_count": 56,
   "id": "104e5c5e",
   "metadata": {},
   "outputs": [
    {
     "name": "stdout",
     "output_type": "stream",
     "text": [
      "[0.85388314 0.77288029 0.87070538 0.8306594  0.8543844 ]\n",
      "0.8365025233073945\n",
      "Difference between R2 score and cross validation score is -  0.058972018673582816\n"
     ]
    }
   ],
   "source": [
    "# Checking cv score for RandomForestRegression\n",
    "score1 = cross_val_score(RFR, x, y)\n",
    "print(score1)\n",
    "print(score1.mean())\n",
    "print(\"Difference between R2 score and cross validation score is - \", r2_score(y_test, pred_RFR) - score1.mean())"
   ]
  },
  {
   "cell_type": "code",
   "execution_count": 57,
   "id": "18500bfc",
   "metadata": {},
   "outputs": [
    {
     "name": "stdout",
     "output_type": "stream",
     "text": [
      "[0.8221881  0.7555254  0.83987794 0.8050002  0.80856984]\n",
      "0.8062322958732286\n",
      "Difference between R2 score and cross validation score is -  0.05011787834163983\n"
     ]
    }
   ],
   "source": [
    "# Checking cv score for KNeighborsRegressor\n",
    "score2 = cross_val_score(KNN, x, y)\n",
    "print(score2)\n",
    "print(score2.mean())\n",
    "print(\"Difference between R2 score and cross validation score is - \", r2_score(y_test, pred_KNN) - score2.mean())"
   ]
  },
  {
   "cell_type": "code",
   "execution_count": 58,
   "id": "8356dcea",
   "metadata": {},
   "outputs": [
    {
     "name": "stdout",
     "output_type": "stream",
     "text": [
      "[0.87514127 0.79067137 0.89420007 0.84919394 0.85974135]\n",
      "0.853789600052768\n",
      "Difference between R2 score and cross validation score is -  0.05877529223209943\n"
     ]
    }
   ],
   "source": [
    "# Checking cv score for GradientBoostingRegressor\n",
    "score3 = cross_val_score(GBR, x, y)\n",
    "print(score3)\n",
    "print(score3.mean())\n",
    "print(\"Difference between R2 score and cross validation score is - \", r2_score(y_test, pred_GBR) - score3.mean())"
   ]
  },
  {
   "cell_type": "code",
   "execution_count": 59,
   "id": "c68fbdc7",
   "metadata": {},
   "outputs": [
    {
     "name": "stdout",
     "output_type": "stream",
     "text": [
      "[0.76124697 0.70842054 0.77784891 0.73364937 0.75513888]\n",
      "0.7472609349374297\n",
      "Difference between R2 score and cross validation score is -  0.056904501626744985\n"
     ]
    }
   ],
   "source": [
    "# Checking cv score for Lasso\n",
    "score4 = cross_val_score(LA, x, y)\n",
    "print(score4)\n",
    "print(score4.mean())\n",
    "print(\"Difference between R2 score and cross validation score is - \", r2_score(y_test, pred_LA) - score4.mean())"
   ]
  },
  {
   "cell_type": "code",
   "execution_count": 60,
   "id": "028b40d0",
   "metadata": {},
   "outputs": [
    {
     "name": "stdout",
     "output_type": "stream",
     "text": [
      "[0.76124956 0.70849269 0.77774855 0.73370746 0.75510598]\n",
      "0.7472608501582403\n",
      "Difference between R2 score and cross validation score is -  0.056896782184379546\n"
     ]
    }
   ],
   "source": [
    "# Checking cv score for Ridge\n",
    "score5 = cross_val_score(RD, x, y)\n",
    "print(score5)\n",
    "print(score5.mean())\n",
    "print(\"Difference between R2 score and cross validation score is - \", r2_score(y_test, pred_RD) - score5.mean())"
   ]
  },
  {
   "cell_type": "code",
   "execution_count": 61,
   "id": "3d62d4cd",
   "metadata": {},
   "outputs": [
    {
     "name": "stdout",
     "output_type": "stream",
     "text": [
      "[0.77056485 0.6821144  0.7288077  0.71326672 0.67801862]\n",
      "0.7145544576040064\n",
      "Difference between R2 score and cross validation score is -  0.09134292505714092\n"
     ]
    }
   ],
   "source": [
    "# Checking cv score for DecisionTreesRegressor\n",
    "score6 = cross_val_score(DTR, x, y)\n",
    "print(score6)\n",
    "print(score6.mean())\n",
    "print(\"Difference between R2 score and cross validation score is - \", r2_score(y_test, pred_DTR) - score6.mean())"
   ]
  },
  {
   "cell_type": "code",
   "execution_count": 62,
   "id": "78fb5bfa",
   "metadata": {},
   "outputs": [
    {
     "name": "stdout",
     "output_type": "stream",
     "text": [
      "[-0.10984404 -0.10765325 -0.07634203 -0.10157605 -0.1023228 ]\n",
      "-0.09954763482596682\n",
      "Difference between R2 score and cross validation score is -  0.02641664237727767\n"
     ]
    }
   ],
   "source": [
    "# Checking cv score for SVR\n",
    "score7 = cross_val_score(svr, x, y)\n",
    "print(score7)\n",
    "print(score7.mean())\n",
    "print(\"Difference between R2 score and cross validation score is - \", r2_score(y_test, pred_svr) - score7.mean())"
   ]
  },
  {
   "cell_type": "code",
   "execution_count": 63,
   "id": "458fe6dd",
   "metadata": {},
   "outputs": [
    {
     "name": "stdout",
     "output_type": "stream",
     "text": [
      "[0.83644493 0.74644009 0.84892413 0.81326947 0.84213656]\n",
      "0.8174430366654238\n",
      "Difference between R2 score and cross validation score is -  0.060444718013388354\n"
     ]
    }
   ],
   "source": [
    "# Checking cv score for ETR\n",
    "score8 = cross_val_score(ETR, x, y)\n",
    "print(score8)\n",
    "print(score8.mean())\n",
    "print(\"Difference between R2 score and cross validation score is - \", r2_score(y_test, pred_ETR) - score8.mean())"
   ]
  },
  {
   "cell_type": "code",
   "execution_count": 64,
   "id": "0bfce7ad",
   "metadata": {},
   "outputs": [
    {
     "name": "stdout",
     "output_type": "stream",
     "text": [
      "[-0.10984404 -0.10765325 -0.07634203 -0.10157605 -0.1023228 ]\n",
      "-0.09954763482596682\n",
      "Difference between R2 score and cross validation score is -  0.02641664237727767\n"
     ]
    }
   ],
   "source": [
    "# Checking cv score for SVR\n",
    "score7 = cross_val_score(svr, x, y)\n",
    "print(score7)\n",
    "print(score7.mean())\n",
    "print(\"Difference between R2 score and cross validation score is - \", r2_score(y_test, pred_svr) - score7.mean())"
   ]
  },
  {
   "cell_type": "markdown",
   "id": "ce832ab6",
   "metadata": {},
   "source": [
    "# Gradient Boosting Regressor is our best Model"
   ]
  },
  {
   "cell_type": "markdown",
   "id": "fadb5987",
   "metadata": {},
   "source": [
    "# Hyper Parameter Tuning"
   ]
  },
  {
   "cell_type": "code",
   "execution_count": 65,
   "id": "21fdb74c",
   "metadata": {},
   "outputs": [],
   "source": [
    "from sklearn.model_selection import GridSearchCV"
   ]
  },
  {
   "cell_type": "code",
   "execution_count": 66,
   "id": "2fc44996",
   "metadata": {},
   "outputs": [],
   "source": [
    "param = {'n_estimators':[500,1000,2000],\n",
    "         'learning_rate':[.001,0.01,.1],\n",
    "         'max_depth':[1,2,4],\n",
    "         'subsample':[.5,.75,1],\n",
    "         'random_state':[1]}"
   ]
  },
  {
   "cell_type": "code",
   "execution_count": 67,
   "id": "e74d2bfd",
   "metadata": {},
   "outputs": [],
   "source": [
    "gscv = GridSearchCV(GradientBoostingRegressor(), param, cv = 5)"
   ]
  },
  {
   "cell_type": "code",
   "execution_count": 68,
   "id": "412101b0",
   "metadata": {},
   "outputs": [
    {
     "data": {
      "text/html": [
       "<style>#sk-container-id-1 {color: black;background-color: white;}#sk-container-id-1 pre{padding: 0;}#sk-container-id-1 div.sk-toggleable {background-color: white;}#sk-container-id-1 label.sk-toggleable__label {cursor: pointer;display: block;width: 100%;margin-bottom: 0;padding: 0.3em;box-sizing: border-box;text-align: center;}#sk-container-id-1 label.sk-toggleable__label-arrow:before {content: \"▸\";float: left;margin-right: 0.25em;color: #696969;}#sk-container-id-1 label.sk-toggleable__label-arrow:hover:before {color: black;}#sk-container-id-1 div.sk-estimator:hover label.sk-toggleable__label-arrow:before {color: black;}#sk-container-id-1 div.sk-toggleable__content {max-height: 0;max-width: 0;overflow: hidden;text-align: left;background-color: #f0f8ff;}#sk-container-id-1 div.sk-toggleable__content pre {margin: 0.2em;color: black;border-radius: 0.25em;background-color: #f0f8ff;}#sk-container-id-1 input.sk-toggleable__control:checked~div.sk-toggleable__content {max-height: 200px;max-width: 100%;overflow: auto;}#sk-container-id-1 input.sk-toggleable__control:checked~label.sk-toggleable__label-arrow:before {content: \"▾\";}#sk-container-id-1 div.sk-estimator input.sk-toggleable__control:checked~label.sk-toggleable__label {background-color: #d4ebff;}#sk-container-id-1 div.sk-label input.sk-toggleable__control:checked~label.sk-toggleable__label {background-color: #d4ebff;}#sk-container-id-1 input.sk-hidden--visually {border: 0;clip: rect(1px 1px 1px 1px);clip: rect(1px, 1px, 1px, 1px);height: 1px;margin: -1px;overflow: hidden;padding: 0;position: absolute;width: 1px;}#sk-container-id-1 div.sk-estimator {font-family: monospace;background-color: #f0f8ff;border: 1px dotted black;border-radius: 0.25em;box-sizing: border-box;margin-bottom: 0.5em;}#sk-container-id-1 div.sk-estimator:hover {background-color: #d4ebff;}#sk-container-id-1 div.sk-parallel-item::after {content: \"\";width: 100%;border-bottom: 1px solid gray;flex-grow: 1;}#sk-container-id-1 div.sk-label:hover label.sk-toggleable__label {background-color: #d4ebff;}#sk-container-id-1 div.sk-serial::before {content: \"\";position: absolute;border-left: 1px solid gray;box-sizing: border-box;top: 0;bottom: 0;left: 50%;z-index: 0;}#sk-container-id-1 div.sk-serial {display: flex;flex-direction: column;align-items: center;background-color: white;padding-right: 0.2em;padding-left: 0.2em;position: relative;}#sk-container-id-1 div.sk-item {position: relative;z-index: 1;}#sk-container-id-1 div.sk-parallel {display: flex;align-items: stretch;justify-content: center;background-color: white;position: relative;}#sk-container-id-1 div.sk-item::before, #sk-container-id-1 div.sk-parallel-item::before {content: \"\";position: absolute;border-left: 1px solid gray;box-sizing: border-box;top: 0;bottom: 0;left: 50%;z-index: -1;}#sk-container-id-1 div.sk-parallel-item {display: flex;flex-direction: column;z-index: 1;position: relative;background-color: white;}#sk-container-id-1 div.sk-parallel-item:first-child::after {align-self: flex-end;width: 50%;}#sk-container-id-1 div.sk-parallel-item:last-child::after {align-self: flex-start;width: 50%;}#sk-container-id-1 div.sk-parallel-item:only-child::after {width: 0;}#sk-container-id-1 div.sk-dashed-wrapped {border: 1px dashed gray;margin: 0 0.4em 0.5em 0.4em;box-sizing: border-box;padding-bottom: 0.4em;background-color: white;}#sk-container-id-1 div.sk-label label {font-family: monospace;font-weight: bold;display: inline-block;line-height: 1.2em;}#sk-container-id-1 div.sk-label-container {text-align: center;}#sk-container-id-1 div.sk-container {/* jupyter's `normalize.less` sets `[hidden] { display: none; }` but bootstrap.min.css set `[hidden] { display: none !important; }` so we also need the `!important` here to be able to override the default hidden behavior on the sphinx rendered scikit-learn.org. See: https://github.com/scikit-learn/scikit-learn/issues/21755 */display: inline-block !important;position: relative;}#sk-container-id-1 div.sk-text-repr-fallback {display: none;}</style><div id=\"sk-container-id-1\" class=\"sk-top-container\"><div class=\"sk-text-repr-fallback\"><pre>GridSearchCV(cv=5, estimator=GradientBoostingRegressor(),\n",
       "             param_grid={&#x27;learning_rate&#x27;: [0.001, 0.01, 0.1],\n",
       "                         &#x27;max_depth&#x27;: [1, 2, 4],\n",
       "                         &#x27;n_estimators&#x27;: [500, 1000, 2000], &#x27;random_state&#x27;: [1],\n",
       "                         &#x27;subsample&#x27;: [0.5, 0.75, 1]})</pre><b>In a Jupyter environment, please rerun this cell to show the HTML representation or trust the notebook. <br />On GitHub, the HTML representation is unable to render, please try loading this page with nbviewer.org.</b></div><div class=\"sk-container\" hidden><div class=\"sk-item sk-dashed-wrapped\"><div class=\"sk-label-container\"><div class=\"sk-label sk-toggleable\"><input class=\"sk-toggleable__control sk-hidden--visually\" id=\"sk-estimator-id-1\" type=\"checkbox\" ><label for=\"sk-estimator-id-1\" class=\"sk-toggleable__label sk-toggleable__label-arrow\">GridSearchCV</label><div class=\"sk-toggleable__content\"><pre>GridSearchCV(cv=5, estimator=GradientBoostingRegressor(),\n",
       "             param_grid={&#x27;learning_rate&#x27;: [0.001, 0.01, 0.1],\n",
       "                         &#x27;max_depth&#x27;: [1, 2, 4],\n",
       "                         &#x27;n_estimators&#x27;: [500, 1000, 2000], &#x27;random_state&#x27;: [1],\n",
       "                         &#x27;subsample&#x27;: [0.5, 0.75, 1]})</pre></div></div></div><div class=\"sk-parallel\"><div class=\"sk-parallel-item\"><div class=\"sk-item\"><div class=\"sk-label-container\"><div class=\"sk-label sk-toggleable\"><input class=\"sk-toggleable__control sk-hidden--visually\" id=\"sk-estimator-id-2\" type=\"checkbox\" ><label for=\"sk-estimator-id-2\" class=\"sk-toggleable__label sk-toggleable__label-arrow\">estimator: GradientBoostingRegressor</label><div class=\"sk-toggleable__content\"><pre>GradientBoostingRegressor()</pre></div></div></div><div class=\"sk-serial\"><div class=\"sk-item\"><div class=\"sk-estimator sk-toggleable\"><input class=\"sk-toggleable__control sk-hidden--visually\" id=\"sk-estimator-id-3\" type=\"checkbox\" ><label for=\"sk-estimator-id-3\" class=\"sk-toggleable__label sk-toggleable__label-arrow\">GradientBoostingRegressor</label><div class=\"sk-toggleable__content\"><pre>GradientBoostingRegressor()</pre></div></div></div></div></div></div></div></div></div></div>"
      ],
      "text/plain": [
       "GridSearchCV(cv=5, estimator=GradientBoostingRegressor(),\n",
       "             param_grid={'learning_rate': [0.001, 0.01, 0.1],\n",
       "                         'max_depth': [1, 2, 4],\n",
       "                         'n_estimators': [500, 1000, 2000], 'random_state': [1],\n",
       "                         'subsample': [0.5, 0.75, 1]})"
      ]
     },
     "execution_count": 68,
     "metadata": {},
     "output_type": "execute_result"
    }
   ],
   "source": [
    "gscv.fit(x_train, y_train)"
   ]
  },
  {
   "cell_type": "code",
   "execution_count": 69,
   "id": "f81226dc",
   "metadata": {},
   "outputs": [
    {
     "data": {
      "text/plain": [
       "{'learning_rate': 0.01,\n",
       " 'max_depth': 2,\n",
       " 'n_estimators': 500,\n",
       " 'random_state': 1,\n",
       " 'subsample': 0.75}"
      ]
     },
     "execution_count": 69,
     "metadata": {},
     "output_type": "execute_result"
    }
   ],
   "source": [
    "gscv.best_params_"
   ]
  },
  {
   "cell_type": "code",
   "execution_count": 70,
   "id": "947a325d",
   "metadata": {},
   "outputs": [],
   "source": [
    "Model = GradientBoostingRegressor(learning_rate = 0.01, max_depth = 2, n_estimators = 500, random_state =1, subsample = 0.75)"
   ]
  },
  {
   "cell_type": "code",
   "execution_count": 71,
   "id": "2529b2e0",
   "metadata": {},
   "outputs": [
    {
     "name": "stdout",
     "output_type": "stream",
     "text": [
      "R2 score: -  -0.696369260393781\n",
      "Mean Absolute Error: -  11750.100738299348\n",
      "Mean Squared error: -  258823750.47839037\n",
      "Root Mean Squared Error: -  16088.000201342315\n"
     ]
    }
   ],
   "source": [
    "Model.fit(x_train, y_train)\n",
    "print('R2 score: - ', r2_score(y_test, pred))\n",
    "print('Mean Absolute Error: - ', mean_absolute_error(y_test, pred))\n",
    "print('Mean Squared error: - ', mean_squared_error(y_test, pred))\n",
    "print(\"Root Mean Squared Error: - \",np.sqrt(mean_squared_error(y_test, pred)))"
   ]
  },
  {
   "cell_type": "markdown",
   "id": "e6dece5f",
   "metadata": {},
   "source": [
    "# Saving the model"
   ]
  },
  {
   "cell_type": "code",
   "execution_count": 72,
   "id": "84ae4c9d",
   "metadata": {},
   "outputs": [
    {
     "data": {
      "text/plain": [
       "['medical_cost_insurance.pki']"
      ]
     },
     "execution_count": 72,
     "metadata": {},
     "output_type": "execute_result"
    }
   ],
   "source": [
    "import joblib\n",
    "joblib.dump(Model, \"medical_cost_insurance.pki\")"
   ]
  },
  {
   "cell_type": "markdown",
   "id": "9bc37f05",
   "metadata": {},
   "source": [
    "# Predicting the saved model"
   ]
  },
  {
   "cell_type": "code",
   "execution_count": 74,
   "id": "32a979eb",
   "metadata": {},
   "outputs": [],
   "source": [
    "import pickle\n",
    "filename = \"medical_cost_insurance.pki\"\n",
    "pickle.dump(Model, open(filename, 'wb'))"
   ]
  },
  {
   "cell_type": "code",
   "execution_count": 75,
   "id": "3a99fbe3",
   "metadata": {},
   "outputs": [
    {
     "name": "stdout",
     "output_type": "stream",
     "text": [
      "91.60049775269792\n"
     ]
    }
   ],
   "source": [
    "import pickle\n",
    "loaded_model = pickle.load(open(\"medical_cost_insurance.pki\", 'rb'))\n",
    "result = loaded_model.score(x_test, y_test)\n",
    "print(result*100)"
   ]
  },
  {
   "cell_type": "code",
   "execution_count": null,
   "id": "07d564ec",
   "metadata": {},
   "outputs": [],
   "source": []
  }
 ],
 "metadata": {
  "kernelspec": {
   "display_name": "Python 3",
   "language": "python",
   "name": "python3"
  },
  "language_info": {
   "codemirror_mode": {
    "name": "ipython",
    "version": 3
   },
   "file_extension": ".py",
   "mimetype": "text/x-python",
   "name": "python",
   "nbconvert_exporter": "python",
   "pygments_lexer": "ipython3",
   "version": "3.8.8"
  }
 },
 "nbformat": 4,
 "nbformat_minor": 5
}
